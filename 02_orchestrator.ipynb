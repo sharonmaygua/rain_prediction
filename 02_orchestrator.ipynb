{
  "cells": [
    {
      "cell_type": "markdown",
      "source": [
        "# **Rain prediction Australia**\n",
        "\n",
        "*Contexto*  \n",
        "\n",
        "Predecir la lluvia del día siguiente entrenando modelos con AutoML de Azure, la variable objetivo RainTomorrow."
      ],
      "metadata": {
        "nteract": {
          "transient": {
            "deleting": false
          }
        }
      }
    },
    {
      "cell_type": "code",
      "source": [
        "from azure.identity import DefaultAzureCredential\n",
        "from azure.ai.ml.constants import AssetTypes\n",
        "from azure.ai.ml import automl, Input, MLClient\n",
        "from pprint import pprint\n",
        "from azure.ai.ml.entities import ResourceConfiguration\n",
        "from azure.ai.ml.entities import AmlCompute"
      ],
      "outputs": [],
      "execution_count": 1,
      "metadata": {
        "gather": {
          "logged": 1698466366614
        }
      }
    },
    {
      "cell_type": "code",
      "source": [
        "credential = DefaultAzureCredential()\n",
        "ml_client = MLClient.from_config(credential)"
      ],
      "outputs": [
        {
          "output_type": "stream",
          "name": "stderr",
          "text": "Found the config file in: /config.json\n"
        }
      ],
      "execution_count": 2,
      "metadata": {
        "jupyter": {
          "source_hidden": false,
          "outputs_hidden": false
        },
        "nteract": {
          "transient": {
            "deleting": false
          }
        },
        "gather": {
          "logged": 1698466367041
        }
      }
    },
    {
      "cell_type": "markdown",
      "source": [
        "##### **1. Read and split data**\n",
        "\n",
        "Se dividió el dataset en train (80%) y test (20%)"
      ],
      "metadata": {
        "nteract": {
          "transient": {
            "deleting": false
          }
        }
      }
    },
    {
      "cell_type": "code",
      "source": [
        "# Crear MLTABLE\n",
        "def create_ml_table_file(filename):\n",
        "    \"\"\"Create ML Table definition\"\"\"\n",
        "\n",
        "    return (\n",
        "        \"paths:\\n\"\n",
        "        \"  - file: ./{0}\\n\"\n",
        "        \"transformations:\\n\"\n",
        "        \"  - read_delimited:\\n\"\n",
        "        \"        delimiter: ','\\n\"\n",
        "        \"        encoding: 'utf8'\\n\"\n",
        "        \"        empty_as_string: false\"\n",
        "    ).format(filename)\n",
        "\n",
        "\n",
        "def save_ml_table_file(output_path, mltable_file_contents):\n",
        "    with open(os.path.join(output_path, \"MLTable\"), \"w\") as f:\n",
        "        f.write(mltable_file_contents)\n",
        "   "
      ],
      "outputs": [],
      "execution_count": 26,
      "metadata": {
        "jupyter": {
          "source_hidden": false,
          "outputs_hidden": false
        },
        "nteract": {
          "transient": {
            "deleting": false
          }
        },
        "gather": {
          "logged": 1698469066148
        }
      }
    },
    {
      "cell_type": "code",
      "source": [
        "import pandas as pd\n",
        "import os\n",
        "from sklearn.model_selection import train_test_split\n",
        "\n",
        "weather_data = pd.read_csv('https://raw.githubusercontent.com/sharonmaygua/rain_prediction/main/weatherAUS_ML.csv')\n",
        "train_data, test_data = train_test_split(weather_data, test_size=0.2, random_state=11)\n",
        "\n",
        "# Train file and its MLTABLE\n",
        "\n",
        "train_folder = './data-ml-table/training-ml-table'\n",
        "os.makedirs(train_folder, exist_ok=True)\n",
        "train_file_path = os.path.join(train_folder,'train_data.csv')\n",
        "train_data.to_csv(train_file_path, index=False)\n",
        "\n",
        "train_mltable_file_contents = create_ml_table_file(\n",
        "    os.path.basename(train_file_path)\n",
        ")  \n",
        "save_ml_table_file(train_folder, train_mltable_file_contents) \n",
        "\n",
        "\n",
        "# Validation file and its MLTABLE\n",
        "\n",
        "valid_folder = './data-ml-table/validation-ml-table'\n",
        "os.makedirs(input_train_folder, exist_ok=True)\n",
        "valid_file_path = os.path.join(valid_folder,'valid_data.csv')\n",
        "train_data.to_csv(valid_file_path, index=False)\n",
        "\n",
        "valid_mltable_file_contents = create_ml_table_file(\n",
        "    os.path.basename(valid_file_path)\n",
        ")  \n",
        "save_ml_table_file(valid_folder, valid_mltable_file_contents) "
      ],
      "outputs": [],
      "execution_count": 27,
      "metadata": {
        "jupyter": {
          "source_hidden": false,
          "outputs_hidden": false
        },
        "nteract": {
          "transient": {
            "deleting": false
          }
        },
        "gather": {
          "logged": 1698469069104
        }
      }
    },
    {
      "cell_type": "code",
      "source": [
        "# READ data en formato MLTABLE\n",
        "training_mltable_path   = \"./data-ml-table/training-ml-table/\"\n",
        "validation_mltable_path = \"./data-ml-table/validation-ml-table/\"\n",
        "\n",
        "# Training MLTable defined locally, with local data to be uploaded\n",
        "my_training_data_input = Input(type=AssetTypes.MLTABLE, path=training_mltable_path)\n",
        "\n",
        "# Validation MLTable defined locally, with local data to be uploaded\n",
        "my_validation_data_input = Input(type=AssetTypes.MLTABLE, path=validation_mltable_path)"
      ],
      "outputs": [],
      "execution_count": 28,
      "metadata": {
        "jupyter": {
          "source_hidden": false,
          "outputs_hidden": false
        },
        "nteract": {
          "transient": {
            "deleting": false
          }
        },
        "gather": {
          "logged": 1698469069266
        }
      }
    },
    {
      "cell_type": "markdown",
      "source": [
        "##### **2. Configurar el trabajo de clasificación**\n",
        "\n",
        "Se utilizó un trabajo de clasificación para entrenar un modelo que prediga \"RainTomorrow\". Se entrenan varios modelos utilizando los datos de entrenamiento. El modelo con el mejor rendimiento en los datos de validación basados en la métrica principal se selecciona como modelo final.\n",
        "\n",
        "- El compute cluster utilizado es de tipo General purpose, **STANDARD_DS3_V2**, con 2 de 4 cores disponibles, 8GB RAM, 75GB storage. Las características del cluster se adaptan a la tarea de clasificación y al conjunto de datos que no requiere un amplio almacenamiento, pero nos permite utilizar dos nodos para paralelizar el proceso.\n",
        "\n",
        "- Para seguir experimentando con los modelos se configuro a 30 minutos para ejecutar todo el experimento."
      ],
      "metadata": {
        "nteract": {
          "transient": {
            "deleting": false
          }
        }
      }
    },
    {
      "cell_type": "code",
      "source": [
        "from azure.ai.ml.entities import AmlCompute\n",
        "from azure.core.exceptions import ResourceNotFoundError\n",
        "\n",
        "compute_name = \"cpu-cluster-prediction\"\n",
        "size_name    = \"Standard_D4_v3\"\n",
        "try:\n",
        "    _ = ml_client.compute.get(compute_name)\n",
        "    print(\"Found existing compute target.\")\n",
        "except ResourceNotFoundError:\n",
        "    print(\"Creating a new compute target...\")\n",
        "    compute_config = AmlCompute(\n",
        "        name=compute_name,\n",
        "        type=\"amlcompute\",\n",
        "        size=size_name,\n",
        "        idle_time_before_scale_down=120,\n",
        "        min_instances=0,\n",
        "        max_instances=6,\n",
        "        tier=\"Dedicated\",\n",
        "    )\n",
        "    ml_client.begin_create_or_update(compute_config).result()"
      ],
      "outputs": [
        {
          "output_type": "stream",
          "name": "stdout",
          "text": "Creating a new compute target...\n"
        }
      ],
      "execution_count": 30,
      "metadata": {
        "jupyter": {
          "source_hidden": false,
          "outputs_hidden": false
        },
        "nteract": {
          "transient": {
            "deleting": false
          }
        },
        "gather": {
          "logged": 1698469454712
        }
      }
    },
    {
      "cell_type": "code",
      "source": [
        "exp_name     = 'rain-prediction'\n",
        "exp_timeout  = 30\n",
        "\n",
        "# Create the AutoML classification job with the related factory-function.\n",
        "classification_job = automl.classification(\n",
        "    compute=compute_name,\n",
        "    experiment_name=exp_name,\n",
        "    training_data=my_training_data_input,\n",
        "    validation_data=my_validation_data_input,\n",
        "    target_column_name=\"RainTomorrow\",\n",
        "    primary_metric=\"precision_score_weighted\",\n",
        "    enable_model_explainability=True,\n",
        "    tags={\"resource\": exp_name}\n",
        ")\n",
        "\n",
        "# Limits are all optional\n",
        "\n",
        "classification_job.set_limits(timeout_minutes=exp_timeout,\n",
        "                               max_trials=5,\n",
        "                               max_nodes=4)"
      ],
      "outputs": [],
      "execution_count": 31,
      "metadata": {
        "jupyter": {
          "source_hidden": false,
          "outputs_hidden": false
        },
        "nteract": {
          "transient": {
            "deleting": false
          }
        },
        "gather": {
          "logged": 1698469473018
        }
      }
    },
    {
      "cell_type": "code",
      "source": [
        "returned_job = ml_client.jobs.create_or_update(\n",
        "    classification_job\n",
        ")  # submit the job to the backend\n",
        "\n",
        "print(f\"Created job: {returned_job}\")"
      ],
      "outputs": [
        {
          "output_type": "stream",
          "name": "stderr",
          "text": "\u001b[32mUploading training-ml-table (7.42 MBs): 100%|██████████| 7419704/7419704 [00:00<00:00, 21795047.28it/s]\n\u001b[39m\n\n\u001b[32mUploading validation-ml-table (7.42 MBs): 100%|██████████| 7419704/7419704 [00:00<00:00, 42353946.76it/s]\n\u001b[39m\n\n"
        },
        {
          "output_type": "stream",
          "name": "stdout",
          "text": "Created job: compute: azureml:cpu-cluster-prediction\ncreation_context:\n  created_at: '2023-10-28T05:04:39.012205+00:00'\n  created_by: Carolina Aldunate\n  created_by_type: User\ndisplay_name: shy_machine_vgd0l85mnl\nexperiment_name: rain-prediction\nid: azureml:/subscriptions/3deaa453-5a6c-4bcd-85f1-1645c3ccd539/resourceGroups/diplomado_ucb/providers/Microsoft.MachineLearningServices/workspaces/ws-rain-prediction/jobs/shy_machine_vgd0l85mnl\nlimits:\n  enable_early_termination: true\n  max_concurrent_trials: 1\n  max_cores_per_trial: -1\n  max_nodes: 4\n  max_trials: 5\n  timeout_minutes: 30\n  trial_timeout_minutes: 30\nlog_verbosity: info\nname: shy_machine_vgd0l85mnl\noutputs: {}\nprimary_metric: precision_score_weighted\nproperties: {}\nresources:\n  instance_count: 1\n  shm_size: 2g\nservices:\n  Studio:\n    endpoint: https://ml.azure.com/runs/shy_machine_vgd0l85mnl?wsid=/subscriptions/3deaa453-5a6c-4bcd-85f1-1645c3ccd539/resourcegroups/diplomado_ucb/workspaces/ws-rain-prediction&tid=192a4dcb-d77a-44ee-815c-5ca0ba5c5471\n  Tracking:\n    endpoint: azureml://eastus.api.azureml.ms/mlflow/v1.0/subscriptions/3deaa453-5a6c-4bcd-85f1-1645c3ccd539/resourceGroups/diplomado_ucb/providers/Microsoft.MachineLearningServices/workspaces/ws-rain-prediction?\nstatus: NotStarted\ntags:\n  resource: rain-prediction\ntarget_column_name: RainTomorrow\ntask: classification\ntraining:\n  enable_dnn_training: false\n  enable_model_explainability: true\n  enable_onnx_compatible_models: false\n  enable_stack_ensemble: true\n  enable_vote_ensemble: true\n  ensemble_model_download_timeout_minutes: 5\n  training_mode: auto\ntraining_data:\n  path: azureml://datastores/workspaceblobstore/paths/LocalUpload/364166dcc8d3538d52771c04f2cc5143/training-ml-table\n  type: mltable\ntype: automl\nvalidation_data:\n  path: azureml://datastores/workspaceblobstore/paths/LocalUpload/9d03b307d73732ed085ddef4379d4d3e/validation-ml-table\n  type: mltable\n\n"
        }
      ],
      "execution_count": 32,
      "metadata": {
        "jupyter": {
          "source_hidden": false,
          "outputs_hidden": false
        },
        "nteract": {
          "transient": {
            "deleting": false
          }
        },
        "gather": {
          "logged": 1698469479275
        }
      }
    },
    {
      "cell_type": "markdown",
      "source": [
        "# "
      ],
      "metadata": {
        "nteract": {
          "transient": {
            "deleting": false
          }
        }
      }
    },
    {
      "cell_type": "markdown",
      "source": [
        "**Entrenamiento...**"
      ],
      "metadata": {
        "nteract": {
          "transient": {
            "deleting": false
          }
        }
      }
    },
    {
      "cell_type": "code",
      "source": [
        "ml_client.jobs.stream(returned_job.name)"
      ],
      "outputs": [
        {
          "output_type": "stream",
          "name": "stdout",
          "text": "RunId: shy_machine_vgd0l85mnl\nWeb View: https://ml.azure.com/runs/shy_machine_vgd0l85mnl?wsid=/subscriptions/3deaa453-5a6c-4bcd-85f1-1645c3ccd539/resourcegroups/diplomado_ucb/workspaces/ws-rain-prediction\n\nExecution Summary\n=================\nRunId: shy_machine_vgd0l85mnl\nWeb View: https://ml.azure.com/runs/shy_machine_vgd0l85mnl?wsid=/subscriptions/3deaa453-5a6c-4bcd-85f1-1645c3ccd539/resourcegroups/diplomado_ucb/workspaces/ws-rain-prediction\n\n"
        }
      ],
      "execution_count": 33,
      "metadata": {
        "jupyter": {
          "source_hidden": false,
          "outputs_hidden": false
        },
        "nteract": {
          "transient": {
            "deleting": false
          }
        },
        "gather": {
          "logged": 1698470363632
        }
      }
    },
    {
      "cell_type": "markdown",
      "source": [
        "Con base a los resultados, los modelos que entreno AutoML son: StackEnsemble, VotingEnsemble, MaxAbsScaler-XGBoostClassifier, MaxAbsScaler-LightGBM y MaxAbsScaler, ExtremeRandomTrees. El mejor modelo *StackEnsemble* tiene una precision alta de 0.85540"
      ],
      "metadata": {
        "nteract": {
          "transient": {
            "deleting": false
          }
        }
      }
    },
    {
      "cell_type": "code",
      "source": [
        "# Get a URL for the status of the job\n",
        "returned_job.services[\"Studio\"].endpoint\n",
        "print(returned_job)"
      ],
      "outputs": [
        {
          "output_type": "stream",
          "name": "stdout",
          "text": "compute: azureml:cpu-cluster-prediction\ncreation_context:\n  created_at: '2023-10-28T05:04:39.012205+00:00'\n  created_by: Carolina Aldunate\n  created_by_type: User\ndisplay_name: shy_machine_vgd0l85mnl\nexperiment_name: rain-prediction\nid: azureml:/subscriptions/3deaa453-5a6c-4bcd-85f1-1645c3ccd539/resourceGroups/diplomado_ucb/providers/Microsoft.MachineLearningServices/workspaces/ws-rain-prediction/jobs/shy_machine_vgd0l85mnl\nlimits:\n  enable_early_termination: true\n  max_concurrent_trials: 1\n  max_cores_per_trial: -1\n  max_nodes: 4\n  max_trials: 5\n  timeout_minutes: 30\n  trial_timeout_minutes: 30\nlog_verbosity: info\nname: shy_machine_vgd0l85mnl\noutputs: {}\nprimary_metric: precision_score_weighted\nproperties: {}\nresources:\n  instance_count: 1\n  shm_size: 2g\nservices:\n  Studio:\n    endpoint: https://ml.azure.com/runs/shy_machine_vgd0l85mnl?wsid=/subscriptions/3deaa453-5a6c-4bcd-85f1-1645c3ccd539/resourcegroups/diplomado_ucb/workspaces/ws-rain-prediction&tid=192a4dcb-d77a-44ee-815c-5ca0ba5c5471\n  Tracking:\n    endpoint: azureml://eastus.api.azureml.ms/mlflow/v1.0/subscriptions/3deaa453-5a6c-4bcd-85f1-1645c3ccd539/resourceGroups/diplomado_ucb/providers/Microsoft.MachineLearningServices/workspaces/ws-rain-prediction?\nstatus: NotStarted\ntags:\n  resource: rain-prediction\ntarget_column_name: RainTomorrow\ntask: classification\ntraining:\n  enable_dnn_training: false\n  enable_model_explainability: true\n  enable_onnx_compatible_models: false\n  enable_stack_ensemble: true\n  enable_vote_ensemble: true\n  ensemble_model_download_timeout_minutes: 5\n  training_mode: auto\ntraining_data:\n  path: azureml://datastores/workspaceblobstore/paths/LocalUpload/364166dcc8d3538d52771c04f2cc5143/training-ml-table\n  type: mltable\ntype: automl\nvalidation_data:\n  path: azureml://datastores/workspaceblobstore/paths/LocalUpload/9d03b307d73732ed085ddef4379d4d3e/validation-ml-table\n  type: mltable\n\n"
        }
      ],
      "execution_count": 34,
      "metadata": {
        "jupyter": {
          "source_hidden": false,
          "outputs_hidden": false
        },
        "nteract": {
          "transient": {
            "deleting": false
          }
        },
        "gather": {
          "logged": 1698471382044
        }
      }
    },
    {
      "cell_type": "markdown",
      "source": [
        "#### **3. Recuperar la mejor prueba**\n",
        "\n",
        "Utilizar MLFLowClient para acceder a los resultados  \n",
        "Inicializar cliente MLFlow"
      ],
      "metadata": {
        "nteract": {
          "transient": {
            "deleting": false
          }
        }
      }
    },
    {
      "cell_type": "code",
      "source": [
        "# Obtain the tracking URI for MLFlow\n",
        "import mlflow\n",
        "\n",
        "# Obtain the tracking URL from MLClient\n",
        "MLFLOW_TRACKING_URI = ml_client.workspaces.get(\n",
        "    name=ml_client.workspace_name\n",
        ").mlflow_tracking_uri\n",
        "\n",
        "print(MLFLOW_TRACKING_URI)"
      ],
      "outputs": [
        {
          "output_type": "stream",
          "name": "stdout",
          "text": "azureml://eastus.api.azureml.ms/mlflow/v1.0/subscriptions/3deaa453-5a6c-4bcd-85f1-1645c3ccd539/resourceGroups/diplomado_ucb/providers/Microsoft.MachineLearningServices/workspaces/ws-rain-prediction\n"
        }
      ],
      "execution_count": 35,
      "metadata": {
        "jupyter": {
          "source_hidden": false,
          "outputs_hidden": false
        },
        "nteract": {
          "transient": {
            "deleting": false
          }
        },
        "gather": {
          "logged": 1698471393829
        }
      }
    },
    {
      "cell_type": "code",
      "source": [
        "# Set the MLFLOW TRACKING URI\n",
        "mlflow.set_tracking_uri(MLFLOW_TRACKING_URI)\n",
        "print(\"\\nCurrent tracking uri: {}\".format(mlflow.get_tracking_uri()))"
      ],
      "outputs": [
        {
          "output_type": "stream",
          "name": "stdout",
          "text": "\nCurrent tracking uri: azureml://eastus.api.azureml.ms/mlflow/v1.0/subscriptions/3deaa453-5a6c-4bcd-85f1-1645c3ccd539/resourceGroups/diplomado_ucb/providers/Microsoft.MachineLearningServices/workspaces/ws-rain-prediction\n"
        }
      ],
      "execution_count": 36,
      "metadata": {
        "jupyter": {
          "source_hidden": false,
          "outputs_hidden": false
        },
        "nteract": {
          "transient": {
            "deleting": false
          }
        },
        "gather": {
          "logged": 1698471396513
        }
      }
    },
    {
      "cell_type": "code",
      "source": [
        "from mlflow.tracking.client import MlflowClient\n",
        "from mlflow.artifacts import download_artifacts\n",
        "\n",
        "# Initialize MLFlow client\n",
        "mlflow_client = MlflowClient()"
      ],
      "outputs": [],
      "execution_count": 37,
      "metadata": {
        "jupyter": {
          "source_hidden": false,
          "outputs_hidden": false
        },
        "nteract": {
          "transient": {
            "deleting": false
          }
        },
        "gather": {
          "logged": 1698471399353
        }
      }
    },
    {
      "cell_type": "code",
      "source": [
        "# Get the AutoML parent job\n",
        "job_name = returned_job.name\n",
        "\n",
        "# Get the parent run\n",
        "mlflow_parent_run = mlflow_client.get_run(job_name)\n",
        "\n",
        "print(\"Parent Run: \")\n",
        "print(mlflow_parent_run)"
      ],
      "outputs": [
        {
          "output_type": "stream",
          "name": "stdout",
          "text": "Parent Run: \n<Run: data=<RunData: metrics={'AUC_macro': 0.9332377604374513,\n 'AUC_micro': 0.9591190960559728,\n 'AUC_weighted': 0.9332377597960146,\n 'accuracy': 0.8901886979347234,\n 'average_precision_score_macro': 0.9071936745946523,\n 'average_precision_score_micro': 0.9599754421181079,\n 'average_precision_score_weighted': 0.947337788420737,\n 'balanced_accuracy': 0.7940624879486162,\n 'f1_score_macro': 0.8228425658237979,\n 'f1_score_micro': 0.8901886979347234,\n 'f1_score_weighted': 0.8840626829935706,\n 'log_loss': 0.26430608203075623,\n 'matthews_correlation': 0.6582308509458612,\n 'norm_macro_recall': 0.5881249758972324,\n 'precision_score_macro': 0.8683467552758894,\n 'precision_score_micro': 0.8901886979347234,\n 'precision_score_weighted': 0.8865463906811467,\n 'recall_score_macro': 0.7940624879486162,\n 'recall_score_micro': 0.8901886979347234,\n 'recall_score_weighted': 0.8901886979347234,\n 'weighted_accuracy': 0.9403582837699775}, params={}, tags={'automl_best_child_run_id': 'shy_machine_vgd0l85mnl_1',\n 'fit_time_000': '1.265362;6.494902;2.46945;4;22',\n 'iteration_000': '0;1;2;3;4',\n 'mlflow.rootRunId': 'shy_machine_vgd0l85mnl',\n 'mlflow.runName': 'shy_machine_vgd0l85mnl',\n 'mlflow.user': 'Carolina Aldunate',\n 'model_explain_best_run_child_id': 'shy_machine_vgd0l85mnl_1',\n 'model_explain_run': 'best_run',\n 'pipeline_id_000': '5dfac790c5c209f98a1da2dc1c7fb76f0397324f;c7af0367625be6ac5c2fecbfc72ed444cb7a2111;799d2168db11fc19b9e1c6c1df62f8981ad39fe9;__AutoML_Ensemble__;__AutoML_Stack_Ensemble__',\n 'predicted_cost_000': '0;0;0.5;0;0',\n 'resource': 'rain-prediction',\n 'run_algorithm_000': 'LightGBM;XGBoostClassifier;ExtremeRandomTrees;VotingEnsemble;StackEnsemble',\n 'run_preprocessor_000': 'MaxAbsScaler;MaxAbsScaler;MaxAbsScaler;;',\n 'score_000': '0.8595902247147956;0.8865463906811467;0.8055359925517707;0.8828342330723087;0.8759707942364241',\n 'training_percent_000': '100;100;100;100;100'}>, info=<RunInfo: artifact_uri='azureml://eastus.api.azureml.ms/mlflow/v2.0/subscriptions/3deaa453-5a6c-4bcd-85f1-1645c3ccd539/resourceGroups/diplomado_ucb/providers/Microsoft.MachineLearningServices/workspaces/ws-rain-prediction/experiments/4d050f9d-91af-41fe-bed4-f2ac9b3db96a/runs/shy_machine_vgd0l85mnl/artifacts', end_time=1698470343116, experiment_id='4d050f9d-91af-41fe-bed4-f2ac9b3db96a', lifecycle_stage='active', run_id='shy_machine_vgd0l85mnl', run_name='shy_machine_vgd0l85mnl', run_uuid='shy_machine_vgd0l85mnl', start_time=1698469498189, status='FINISHED', user_id='02d95d40-d17f-4e2e-90da-0e37e53b3452'>, inputs=<RunInputs: dataset_inputs=[]>>\n"
        }
      ],
      "execution_count": 38,
      "metadata": {
        "jupyter": {
          "source_hidden": false,
          "outputs_hidden": false
        },
        "nteract": {
          "transient": {
            "deleting": false
          }
        },
        "gather": {
          "logged": 1698471404783
        }
      }
    },
    {
      "cell_type": "code",
      "source": [
        "# Get the best model's child run\n",
        "\n",
        "best_child_run_id = mlflow_parent_run.data.tags[\"automl_best_child_run_id\"]\n",
        "print(\"Found best child run id: \", best_child_run_id)\n",
        "\n",
        "best_run = mlflow_client.get_run(best_child_run_id)\n",
        "\n",
        "print(\"Best child run: \")\n",
        "print(best_run)"
      ],
      "outputs": [
        {
          "output_type": "stream",
          "name": "stdout",
          "text": "Found best child run id:  shy_machine_vgd0l85mnl_1\nBest child run: \n<Run: data=<RunData: metrics={'AUC_macro': 0.9332377604374513,\n 'AUC_micro': 0.9591190960559728,\n 'AUC_weighted': 0.9332377597960146,\n 'accuracy': 0.8901886979347234,\n 'average_precision_score_macro': 0.9071936745946523,\n 'average_precision_score_micro': 0.9599754421181079,\n 'average_precision_score_weighted': 0.947337788420737,\n 'balanced_accuracy': 0.7940624879486162,\n 'f1_score_macro': 0.8228425658237979,\n 'f1_score_micro': 0.8901886979347234,\n 'f1_score_weighted': 0.8840626829935706,\n 'log_loss': 0.26430608203075623,\n 'matthews_correlation': 0.6582308509458612,\n 'norm_macro_recall': 0.5881249758972324,\n 'precision_score_macro': 0.8683467552758894,\n 'precision_score_micro': 0.8901886979347234,\n 'precision_score_weighted': 0.8865463906811467,\n 'recall_score_macro': 0.7940624879486162,\n 'recall_score_micro': 0.8901886979347234,\n 'recall_score_weighted': 0.8901886979347234,\n 'weighted_accuracy': 0.9403582837699775}, params={}, tags={'mlflow.parentRunId': 'shy_machine_vgd0l85mnl',\n 'mlflow.rootRunId': 'shy_machine_vgd0l85mnl',\n 'mlflow.runName': 'stoic_milk_0pk6fy67',\n 'mlflow.user': 'Carolina Aldunate',\n 'model_explain_run_id': 'shy_machine_vgd0l85mnl_ModelExplain',\n 'model_explanation': 'True'}>, info=<RunInfo: artifact_uri='azureml://eastus.api.azureml.ms/mlflow/v2.0/subscriptions/3deaa453-5a6c-4bcd-85f1-1645c3ccd539/resourceGroups/diplomado_ucb/providers/Microsoft.MachineLearningServices/workspaces/ws-rain-prediction/experiments/4d050f9d-91af-41fe-bed4-f2ac9b3db96a/runs/shy_machine_vgd0l85mnl_1/artifacts', end_time=1698470150467, experiment_id='4d050f9d-91af-41fe-bed4-f2ac9b3db96a', lifecycle_stage='active', run_id='shy_machine_vgd0l85mnl_1', run_name='stoic_milk_0pk6fy67', run_uuid='shy_machine_vgd0l85mnl_1', start_time=1698470113997, status='FINISHED', user_id='02d95d40-d17f-4e2e-90da-0e37e53b3452'>, inputs=<RunInputs: dataset_inputs=[]>>\n"
        }
      ],
      "execution_count": 39,
      "metadata": {
        "jupyter": {
          "source_hidden": false,
          "outputs_hidden": false
        },
        "nteract": {
          "transient": {
            "deleting": false
          }
        },
        "gather": {
          "logged": 1698471408659
        }
      }
    },
    {
      "cell_type": "code",
      "source": [
        "# Get best model run's metrics\n",
        "best_run.data.metrics"
      ],
      "outputs": [
        {
          "output_type": "execute_result",
          "execution_count": 40,
          "data": {
            "text/plain": "{'balanced_accuracy': 0.7940624879486162,\n 'matthews_correlation': 0.6582308509458612,\n 'recall_score_macro': 0.7940624879486162,\n 'accuracy': 0.8901886979347234,\n 'precision_score_macro': 0.8683467552758894,\n 'AUC_weighted': 0.9332377597960146,\n 'f1_score_micro': 0.8901886979347234,\n 'recall_score_weighted': 0.8901886979347234,\n 'recall_score_micro': 0.8901886979347234,\n 'average_precision_score_micro': 0.9599754421181079,\n 'norm_macro_recall': 0.5881249758972324,\n 'average_precision_score_weighted': 0.947337788420737,\n 'AUC_micro': 0.9591190960559728,\n 'average_precision_score_macro': 0.9071936745946523,\n 'f1_score_macro': 0.8228425658237979,\n 'AUC_macro': 0.9332377604374513,\n 'precision_score_weighted': 0.8865463906811467,\n 'precision_score_micro': 0.8901886979347234,\n 'f1_score_weighted': 0.8840626829935706,\n 'log_loss': 0.26430608203075623,\n 'weighted_accuracy': 0.9403582837699775}"
          },
          "metadata": {}
        }
      ],
      "execution_count": 40,
      "metadata": {
        "jupyter": {
          "source_hidden": false,
          "outputs_hidden": false
        },
        "nteract": {
          "transient": {
            "deleting": false
          }
        },
        "gather": {
          "logged": 1698471412078
        }
      }
    },
    {
      "cell_type": "markdown",
      "source": [
        "##### **3.1. Download the best model locally**"
      ],
      "metadata": {
        "nteract": {
          "transient": {
            "deleting": false
          }
        }
      }
    },
    {
      "cell_type": "code",
      "source": [
        "# Create local folder\n",
        "local_dir = \"./artifact_downloads\"\n",
        "if not os.path.exists(local_dir):\n",
        "    os.mkdir(local_dir)"
      ],
      "outputs": [],
      "execution_count": 41,
      "metadata": {
        "jupyter": {
          "source_hidden": false,
          "outputs_hidden": false
        },
        "nteract": {
          "transient": {
            "deleting": false
          }
        },
        "gather": {
          "logged": 1698471415750
        }
      }
    },
    {
      "cell_type": "code",
      "source": [
        "# Download run's artifacts/outputs\n",
        "local_path = download_artifacts(\n",
        "    run_id=best_run.info.run_id, artifact_path=\"outputs\", dst_path=local_dir\n",
        ")\n",
        "print(\"Artifacts downloaded in: {}\".format(local_path))\n",
        "print(\"Artifacts: {}\".format(os.listdir(local_path)))"
      ],
      "outputs": [
        {
          "output_type": "stream",
          "name": "stdout",
          "text": "Artifacts downloaded in: /mnt/batch/tasks/shared/LS_root/mounts/clusters/aldunatelipac1/code/Users/aldunatelipac/artifact_downloads/outputs\nArtifacts: ['conda_env_v_1_0_0.yml', 'engineered_feature_names.json', 'env_dependencies.json', 'featurization_summary.json', 'generated_code', 'mlflow-model', 'model.pkl', 'pipeline_graph.json', 'run_id.txt', 'scoring_file_pbi_v_1_0_0.py', 'scoring_file_v_1_0_0.py', 'scoring_file_v_2_0_0.py']\n"
        }
      ],
      "execution_count": 42,
      "metadata": {
        "jupyter": {
          "source_hidden": false,
          "outputs_hidden": false
        },
        "nteract": {
          "transient": {
            "deleting": false
          }
        },
        "gather": {
          "logged": 1698471420731
        }
      }
    },
    {
      "cell_type": "code",
      "source": [
        "# Show the contents of the MLFlow model folder\n",
        "os.listdir(\"./artifact_downloads/outputs/mlflow-model\")"
      ],
      "outputs": [
        {
          "output_type": "execute_result",
          "execution_count": 43,
          "data": {
            "text/plain": "['conda.yaml', 'MLmodel', 'model.pkl', 'python_env.yaml', 'requirements.txt']"
          },
          "metadata": {}
        }
      ],
      "execution_count": 43,
      "metadata": {
        "jupyter": {
          "source_hidden": false,
          "outputs_hidden": false
        },
        "nteract": {
          "transient": {
            "deleting": false
          }
        },
        "gather": {
          "logged": 1698471424339
        }
      }
    },
    {
      "cell_type": "markdown",
      "source": [
        "#### **4. Register Best Model and Deploy**.\n",
        "##### 4.1 Create managed online endpoint"
      ],
      "metadata": {
        "nteract": {
          "transient": {
            "deleting": false
          }
        }
      }
    },
    {
      "cell_type": "code",
      "source": [
        "# import required libraries\n",
        "from azure.ai.ml.entities import (\n",
        "    ManagedOnlineEndpoint,\n",
        "    ManagedOnlineDeployment,\n",
        "    Model,\n",
        "    Environment,\n",
        "    CodeConfiguration,\n",
        "    ProbeSettings,\n",
        ")\n",
        "from azure.ai.ml.constants import ModelType"
      ],
      "outputs": [],
      "execution_count": 44,
      "metadata": {
        "jupyter": {
          "source_hidden": false,
          "outputs_hidden": false
        },
        "nteract": {
          "transient": {
            "deleting": false
          }
        },
        "gather": {
          "logged": 1698471428397
        }
      }
    },
    {
      "cell_type": "code",
      "source": [
        "# Creating a unique endpoint name with current datetime to avoid conflicts\n",
        "import datetime\n",
        "\n",
        "online_endpoint_name = \"rainpredictionaus-\" + datetime.datetime.now().strftime(\"%m%d%H%M%f\")\n",
        "\n",
        "# create an online endpoint\n",
        "endpoint = ManagedOnlineEndpoint(\n",
        "    name=online_endpoint_name,\n",
        "    description=\"this is a sample online endpoint for mlflow model\",\n",
        "    auth_mode=\"key\",\n",
        "    tags={\"foo\": \"bar\"},\n",
        ")"
      ],
      "outputs": [],
      "execution_count": 47,
      "metadata": {
        "jupyter": {
          "source_hidden": false,
          "outputs_hidden": false
        },
        "nteract": {
          "transient": {
            "deleting": false
          }
        },
        "gather": {
          "logged": 1698471536412
        }
      }
    },
    {
      "cell_type": "code",
      "source": [
        "ml_client.begin_create_or_update(endpoint).result()"
      ],
      "outputs": [
        {
          "output_type": "execute_result",
          "execution_count": 48,
          "data": {
            "text/plain": "ManagedOnlineEndpoint({'public_network_access': 'Enabled', 'provisioning_state': 'Succeeded', 'scoring_uri': 'https://rainpredictionaus-10280538867760.eastus.inference.ml.azure.com/score', 'openapi_uri': 'https://rainpredictionaus-10280538867760.eastus.inference.ml.azure.com/swagger.json', 'name': 'rainpredictionaus-10280538867760', 'description': 'this is a sample online endpoint for mlflow model', 'tags': {'foo': 'bar'}, 'properties': {'azureml.onlineendpointid': '/subscriptions/3deaa453-5a6c-4bcd-85f1-1645c3ccd539/resourcegroups/diplomado_ucb/providers/microsoft.machinelearningservices/workspaces/ws-rain-prediction/onlineendpoints/rainpredictionaus-10280538867760', 'AzureAsyncOperationUri': 'https://management.azure.com/subscriptions/3deaa453-5a6c-4bcd-85f1-1645c3ccd539/providers/Microsoft.MachineLearningServices/locations/eastus/mfeOperationsStatus/oe:fe38c996-ca2d-4473-bf5b-739c564da9f0:c365c9a8-e259-4af5-8e3e-9b6ade4bb1e7?api-version=2022-02-01-preview'}, 'print_as_yaml': True, 'id': '/subscriptions/3deaa453-5a6c-4bcd-85f1-1645c3ccd539/resourceGroups/diplomado_ucb/providers/Microsoft.MachineLearningServices/workspaces/ws-rain-prediction/onlineEndpoints/rainpredictionaus-10280538867760', 'Resource__source_path': None, 'base_path': '/mnt/batch/tasks/shared/LS_root/mounts/clusters/aldunatelipac1/code/Users/aldunatelipac', 'creation_context': None, 'serialize': <msrest.serialization.Serializer object at 0x7fe6696479d0>, 'auth_mode': 'key', 'location': 'eastus', 'identity': <azure.ai.ml.entities._credentials.IdentityConfiguration object at 0x7fe669647b50>, 'traffic': {}, 'mirror_traffic': {}, 'kind': 'Managed'})"
          },
          "metadata": {}
        }
      ],
      "execution_count": 48,
      "metadata": {
        "jupyter": {
          "source_hidden": false,
          "outputs_hidden": false
        },
        "nteract": {
          "transient": {
            "deleting": false
          }
        },
        "gather": {
          "logged": 1698471602759
        }
      }
    },
    {
      "cell_type": "markdown",
      "source": [
        "##### 4.1 Register best model and deploy"
      ],
      "metadata": {
        "nteract": {
          "transient": {
            "deleting": false
          }
        }
      }
    },
    {
      "cell_type": "code",
      "source": [
        "model_name = \"rain-prediction-aus-model\"\n",
        "model = Model(\n",
        "    path=f\"azureml://jobs/{best_run.info.run_id}/outputs/artifacts/outputs/mlflow-model/\",\n",
        "    name=model_name,\n",
        "    description=\"my sample classification model\",\n",
        "    type=AssetTypes.MLFLOW_MODEL,\n",
        ")\n",
        "\n",
        "# for downloaded file\n",
        "# model = Model(path=\"artifact_downloads/outputs/model.pkl\", name=model_name)\n",
        "\n",
        "registered_model = ml_client.models.create_or_update(model)"
      ],
      "outputs": [],
      "execution_count": 49,
      "metadata": {
        "jupyter": {
          "source_hidden": false,
          "outputs_hidden": false
        },
        "nteract": {
          "transient": {
            "deleting": false
          }
        },
        "gather": {
          "logged": 1698471712831
        }
      }
    },
    {
      "cell_type": "code",
      "source": [
        "registered_model.id"
      ],
      "outputs": [
        {
          "output_type": "execute_result",
          "execution_count": 50,
          "data": {
            "text/plain": "'/subscriptions/3deaa453-5a6c-4bcd-85f1-1645c3ccd539/resourceGroups/diplomado_ucb/providers/Microsoft.MachineLearningServices/workspaces/ws-rain-prediction/models/rain-prediction-aus-model/versions/1'"
          },
          "metadata": {}
        }
      ],
      "execution_count": 50,
      "metadata": {
        "jupyter": {
          "source_hidden": false,
          "outputs_hidden": false
        },
        "nteract": {
          "transient": {
            "deleting": false
          }
        },
        "gather": {
          "logged": 1698471716662
        }
      }
    },
    {
      "cell_type": "code",
      "source": [
        "from azure.ai.ml.entities import OnlineRequestSettings\n",
        "\n",
        "# Setting the request timeout 90s\n",
        "req_timeout = OnlineRequestSettings(request_timeout_ms=90000)\n",
        "\n",
        "deployment = ManagedOnlineDeployment(\n",
        "    name='rain-prediction-deploy',\n",
        "    endpoint_name=online_endpoint_name,\n",
        "    model=registered_model,\n",
        "    instance_type=\"Standard_D2as_v4\",  \n",
        "    instance_count=1,\n",
        "    request_settings=req_timeout\n",
        ")"
      ],
      "outputs": [],
      "execution_count": 51,
      "metadata": {
        "jupyter": {
          "source_hidden": false,
          "outputs_hidden": false
        },
        "nteract": {
          "transient": {
            "deleting": false
          }
        },
        "gather": {
          "logged": 1698471722583
        }
      }
    },
    {
      "cell_type": "code",
      "source": [
        "ml_client.online_deployments.begin_create_or_update(deployment).result()"
      ],
      "outputs": [
        {
          "output_type": "stream",
          "name": "stderr",
          "text": "Check: endpoint rainpredictionaus-10280538867760 exists\n"
        },
        {
          "output_type": "stream",
          "name": "stdout",
          "text": ".............................................................................................."
        },
        {
          "output_type": "execute_result",
          "execution_count": 52,
          "data": {
            "text/plain": "ManagedOnlineDeployment({'private_network_connection': None, 'provisioning_state': 'Succeeded', 'endpoint_name': 'rainpredictionaus-10280538867760', 'type': 'Managed', 'name': 'rain-prediction-deploy', 'description': None, 'tags': {}, 'properties': {'AzureAsyncOperationUri': 'https://management.azure.com/subscriptions/3deaa453-5a6c-4bcd-85f1-1645c3ccd539/providers/Microsoft.MachineLearningServices/locations/eastus/mfeOperationsStatus/od:fe38c996-ca2d-4473-bf5b-739c564da9f0:5cefa5b3-9c7d-42f7-b343-ce14afe572ed?api-version=2023-04-01-preview'}, 'print_as_yaml': True, 'id': '/subscriptions/3deaa453-5a6c-4bcd-85f1-1645c3ccd539/resourceGroups/diplomado_ucb/providers/Microsoft.MachineLearningServices/workspaces/ws-rain-prediction/onlineEndpoints/rainpredictionaus-10280538867760/deployments/rain-prediction-deploy', 'Resource__source_path': None, 'base_path': '/mnt/batch/tasks/shared/LS_root/mounts/clusters/aldunatelipac1/code/Users/aldunatelipac', 'creation_context': None, 'serialize': <msrest.serialization.Serializer object at 0x7fe62810afe0>, 'model': '/subscriptions/3deaa453-5a6c-4bcd-85f1-1645c3ccd539/resourceGroups/diplomado_ucb/providers/Microsoft.MachineLearningServices/workspaces/ws-rain-prediction/models/rain-prediction-aus-model/versions/1', 'code_configuration': None, 'environment': None, 'environment_variables': {}, 'app_insights_enabled': False, 'scale_settings': <azure.ai.ml.entities._deployment.scale_settings.DefaultScaleSettings object at 0x7fe669645900>, 'request_settings': <azure.ai.ml.entities._deployment.deployment_settings.OnlineRequestSettings object at 0x7fe669637c10>, 'liveness_probe': <azure.ai.ml.entities._deployment.deployment_settings.ProbeSettings object at 0x7fe6696458d0>, 'readiness_probe': <azure.ai.ml.entities._deployment.deployment_settings.ProbeSettings object at 0x7fe6696458a0>, 'instance_count': 1, 'arm_type': 'online_deployment', 'model_mount_path': None, 'instance_type': 'Standard_D2as_v4', 'data_collector': None, 'egress_public_network_access': 'Enabled'})"
          },
          "metadata": {}
        }
      ],
      "execution_count": 52,
      "metadata": {
        "jupyter": {
          "source_hidden": false,
          "outputs_hidden": false
        },
        "nteract": {
          "transient": {
            "deleting": false
          }
        },
        "gather": {
          "logged": 1698472215723
        }
      }
    },
    {
      "cell_type": "markdown",
      "source": [
        "##### 4.2 Test the deployment"
      ],
      "metadata": {
        "nteract": {
          "transient": {
            "deleting": false
          }
        }
      }
    },
    {
      "cell_type": "code",
      "source": [
        "import json\n",
        "\n",
        "print(test_data.iloc[0,:])\n",
        "\n",
        "request_json = {\n",
        "    \"input_data\":{\n",
        "        \"columns\":[\"Location\",\"MinTemp\",\"MaxTemp\",\"Rainfall\",'WindGustDir','WindGustSpeed',\n",
        "                    \"WindDir9am\",\"WindDir3pm\",\"WindSpeed9am\",\"WindSpeed3pm\",\"Humidity9am\",\n",
        "                    \"Humidity3pm\",\"Pressure9am\",\"Pressure3pm\",\"RainToday\"],\n",
        "        \"data\":   [{\n",
        "                    \"Location\":21.0,\n",
        "                    \"MinTemp\":6.1,\n",
        "                    \"MaxTemp\":20.7,\n",
        "                    \"Rainfall\":0.0,\n",
        "                    \"WindGustDir\":0.0,\n",
        "                    \"WindGustSpeed\":30.0,\n",
        "                    \"WindDir9am\":0.0,\n",
        "                    \"WindDir3pm\":8.0,\n",
        "                    \"WindSpeed9am\":17.0,\n",
        "                    \"WindSpeed3pm\":9.0,\n",
        "                    \"Humidity9am\":68.0,\n",
        "                    \"Humidity3pm\":39.0,\n",
        "                    \"Pressure9am\":1026.0,\n",
        "                    \"Pressure3pm\":1021.9,\n",
        "                    \"RainToday\":0.0\n",
        "                  }],\n",
        "    }\n",
        "}"
      ],
      "outputs": [
        {
          "output_type": "stream",
          "name": "stdout",
          "text": "Location           21.0\nMinTemp             6.1\nMaxTemp            20.7\nRainfall            0.0\nWindGustDir         0.0\nWindGustSpeed      30.0\nWindDir9am          0.0\nWindDir3pm          8.0\nWindSpeed9am       17.0\nWindSpeed3pm        9.0\nHumidity9am        68.0\nHumidity3pm        39.0\nPressure9am      1026.0\nPressure3pm      1021.9\nRainToday           0.0\nRainTomorrow        0.0\nName: 12670, dtype: float64\n"
        }
      ],
      "execution_count": 53,
      "metadata": {
        "jupyter": {
          "source_hidden": false,
          "outputs_hidden": false
        },
        "nteract": {
          "transient": {
            "deleting": false
          }
        },
        "gather": {
          "logged": 1698472408942
        }
      }
    },
    {
      "cell_type": "code",
      "source": [
        "request_file_name = \"sample_request_data.json\"\n",
        "with open(request_file_name, \"w\") as request_file:\n",
        "    json.dump(request_json, request_file)\n",
        "\n",
        "resp = ml_client.online_endpoints.invoke(\n",
        "    endpoint_name=online_endpoint_name,\n",
        "    deployment_name=deployment.name,\n",
        "    request_file=request_file_name,\n",
        ")\n",
        "print('Predicción con el mejor modelo')\n",
        "resp"
      ],
      "outputs": [
        {
          "output_type": "stream",
          "name": "stdout",
          "text": "Predicción con el mejor modelo\n"
        },
        {
          "output_type": "execute_result",
          "execution_count": 54,
          "data": {
            "text/plain": "'[0]'"
          },
          "metadata": {}
        }
      ],
      "execution_count": 54,
      "metadata": {
        "jupyter": {
          "source_hidden": false,
          "outputs_hidden": false
        },
        "nteract": {
          "transient": {
            "deleting": false
          }
        },
        "gather": {
          "logged": 1698472432753
        }
      }
    },
    {
      "cell_type": "code",
      "source": [
        "import json\n",
        "print(test_data.iloc[2,:])\n",
        "request_json = {\n",
        "    \"input_data\":{\n",
        "        \"columns\":[\"Location\",\"MinTemp\",\"MaxTemp\",\"Rainfall\",'WindGustDir','WindGustSpeed',\n",
        "                    \"WindDir9am\",\"WindDir3pm\",\"WindSpeed9am\",\"WindSpeed3pm\",\"Humidity9am\",\n",
        "                    \"Humidity3pm\",\"Pressure9am\",\"Pressure3pm\",\"RainToday\"],\n",
        "        \"data\":   [{\n",
        "                    \"Location\":15.0,\n",
        "                    \"MinTemp\":15.1,\n",
        "                    \"MaxTemp\":22.7,\n",
        "                    \"Rainfall\":5.8,\n",
        "                    \"WindGustDir\":6.0,\n",
        "                    \"WindGustSpeed\":65.0,\n",
        "                    \"WindDir9am\":6.74,\n",
        "                    \"WindDir3pm\":5.0,\n",
        "                    \"WindSpeed9am\":2.0,\n",
        "                    \"WindSpeed3pm\":9.0,\n",
        "                    \"Humidity9am\":7.0,\n",
        "                    \"Humidity3pm\":82.0,\n",
        "                    \"Pressure9am\":1006.0,\n",
        "                    \"Pressure3pm\":1002.9,\n",
        "                    \"RainToday\":1.0\n",
        "                  }],\n",
        "    }\n",
        "}\n"
      ],
      "outputs": [
        {
          "output_type": "stream",
          "name": "stdout",
          "text": "Location           15.000000\nMinTemp            15.100000\nMaxTemp            22.700000\nRainfall            5.800000\nWindGustDir         6.000000\nWindGustSpeed      65.000000\nWindDir9am          6.742962\nWindDir3pm          5.000000\nWindSpeed9am        2.000000\nWindSpeed3pm        7.000000\nHumidity9am        94.000000\nHumidity3pm        82.000000\nPressure9am      1006.200000\nPressure3pm      1002.100000\nRainToday           1.000000\nRainTomorrow        1.000000\nName: 111579, dtype: float64\n"
        }
      ],
      "execution_count": 57,
      "metadata": {
        "jupyter": {
          "source_hidden": false,
          "outputs_hidden": false
        },
        "nteract": {
          "transient": {
            "deleting": false
          }
        },
        "gather": {
          "logged": 1698473128064
        }
      }
    },
    {
      "cell_type": "code",
      "source": [
        "request_file_name = \"sample_request_data.json\"\n",
        "with open(request_file_name, \"w\") as request_file:\n",
        "    json.dump(request_json, request_file)\n",
        "\n",
        "resp = ml_client.online_endpoints.invoke(\n",
        "    endpoint_name=online_endpoint_name,\n",
        "    deployment_name=deployment.name,\n",
        "    request_file=request_file_name,\n",
        ")\n",
        "resp"
      ],
      "outputs": [
        {
          "output_type": "execute_result",
          "execution_count": 56,
          "data": {
            "text/plain": "'[1]'"
          },
          "metadata": {}
        }
      ],
      "execution_count": 56,
      "metadata": {
        "jupyter": {
          "source_hidden": false,
          "outputs_hidden": false
        },
        "nteract": {
          "transient": {
            "deleting": false
          }
        },
        "gather": {
          "logged": 1698473118731
        }
      }
    },
    {
      "cell_type": "code",
      "source": [
        "os.getcwd()"
      ],
      "outputs": [
        {
          "output_type": "execute_result",
          "execution_count": 58,
          "data": {
            "text/plain": "'/mnt/batch/tasks/shared/LS_root/mounts/clusters/aldunatelipac1/code/Users/aldunatelipac'"
          },
          "metadata": {}
        }
      ],
      "execution_count": 58,
      "metadata": {
        "jupyter": {
          "source_hidden": false,
          "outputs_hidden": false
        },
        "nteract": {
          "transient": {
            "deleting": false
          }
        },
        "gather": {
          "logged": 1698473825566
        }
      }
    },
    {
      "cell_type": "code",
      "source": [
        "import shutil\n",
        "\n",
        "\n",
        "shutil.make_archive(output_filename, 'zip', os.getcwd())"
      ],
      "outputs": [
        {
          "output_type": "execute_result",
          "execution_count": 61,
          "data": {
            "text/plain": "'/mnt/batch/tasks/shared/LS_root/mounts/clusters/aldunatelipac1/code/Users/aldunatelipac/20231028_ochestrator_prediction-rain_aus.zip'"
          },
          "metadata": {}
        }
      ],
      "execution_count": 61,
      "metadata": {
        "jupyter": {
          "source_hidden": false,
          "outputs_hidden": false
        },
        "nteract": {
          "transient": {
            "deleting": false
          }
        },
        "gather": {
          "logged": 1698474109651
        }
      }
    },
    {
      "cell_type": "code",
      "source": [],
      "outputs": [],
      "execution_count": null,
      "metadata": {
        "jupyter": {
          "source_hidden": false,
          "outputs_hidden": false
        },
        "nteract": {
          "transient": {
            "deleting": false
          }
        }
      }
    }
  ],
  "metadata": {
    "kernelspec": {
      "name": "python310-sdkv2",
      "language": "python",
      "display_name": "Python 3.10 - SDK v2"
    },
    "language_info": {
      "name": "python",
      "version": "3.10.11",
      "mimetype": "text/x-python",
      "codemirror_mode": {
        "name": "ipython",
        "version": 3
      },
      "pygments_lexer": "ipython3",
      "nbconvert_exporter": "python",
      "file_extension": ".py"
    },
    "microsoft": {
      "ms_spell_check": {
        "ms_spell_check_language": "en"
      },
      "host": {
        "AzureML": {
          "notebookHasBeenCompleted": true
        }
      }
    },
    "kernel_info": {
      "name": "python310-sdkv2"
    },
    "nteract": {
      "version": "nteract-front-end@1.0.0"
    }
  },
  "nbformat": 4,
  "nbformat_minor": 2
}