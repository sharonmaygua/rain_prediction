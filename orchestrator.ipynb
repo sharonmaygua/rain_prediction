{
  "cells": [
    {
      "cell_type": "markdown",
      "source": [
        "# **Rain prediction Australia**\n",
        "\n",
        "*Contexto*  \n",
        "\n",
        "Predecir la lluvia del día siguiente entrenando modelos con AutoML de Azure, la variable objetivo RainTomorrow."
      ],
      "metadata": {
        "nteract": {
          "transient": {
            "deleting": false
          }
        }
      }
    },
    {
      "cell_type": "code",
      "source": [
        "from azure.identity import DefaultAzureCredential\n",
        "from azure.ai.ml.constants import AssetTypes\n",
        "from azure.ai.ml import automl, Input, MLClient\n",
        "from pprint import pprint\n",
        "from azure.ai.ml.entities import ResourceConfiguration"
      ],
      "outputs": [],
      "execution_count": 16,
      "metadata": {
        "gather": {
          "logged": 1698063443315
        }
      }
    },
    {
      "cell_type": "code",
      "source": [
        "credential = DefaultAzureCredential()\n",
        "ml_client = MLClient.from_config(credential)"
      ],
      "outputs": [
        {
          "output_type": "stream",
          "name": "stderr",
          "text": "Found the config file in: /config.json\n"
        }
      ],
      "execution_count": 17,
      "metadata": {
        "jupyter": {
          "source_hidden": false,
          "outputs_hidden": false
        },
        "nteract": {
          "transient": {
            "deleting": false
          }
        },
        "gather": {
          "logged": 1698063444440
        }
      }
    },
    {
      "cell_type": "markdown",
      "source": [
        "##### **1. Read and split data**\n",
        "\n",
        "Se dividió el dataset en train (80%) y test (20%)"
      ],
      "metadata": {
        "nteract": {
          "transient": {
            "deleting": false
          }
        }
      }
    },
    {
      "cell_type": "code",
      "source": [
        "import pandas as pd\n",
        "from sklearn.model_selection import train_test_split\n",
        "\n",
        "weather_data = pd.read_csv('https://raw.githubusercontent.com/sharonmaygua/rain_prediction/main/weatherAUS_ML.csv')\n",
        "train_data, test_data = train_test_split(weather_data, test_size=0.2, random_state=11)\n",
        "\n",
        "train_data.to_csv(\"./data-ml-table/training-ml-table/train_data.csv\", index=False)\n",
        "test_data.to_csv(\"./data-ml-table/validation-ml-table/valid_data.csv\", index=False)"
      ],
      "outputs": [],
      "execution_count": 32,
      "metadata": {
        "jupyter": {
          "source_hidden": false,
          "outputs_hidden": false
        },
        "nteract": {
          "transient": {
            "deleting": false
          }
        },
        "gather": {
          "logged": 1698067376838
        }
      }
    },
    {
      "cell_type": "code",
      "source": [
        "# READ data en formato MLTABLE\n",
        "training_mltable_path   = \"./data-ml-table/training-ml-table/\"\n",
        "validation_mltable_path = \"./data-ml-table/validation-ml-table/\"\n",
        "\n",
        "# Training MLTable defined locally, with local data to be uploaded\n",
        "my_training_data_input = Input(type=AssetTypes.MLTABLE, path=training_mltable_path)\n",
        "\n",
        "# Validation MLTable defined locally, with local data to be uploaded\n",
        "my_validation_data_input = Input(type=AssetTypes.MLTABLE, path=validation_mltable_path)"
      ],
      "outputs": [],
      "execution_count": 33,
      "metadata": {
        "jupyter": {
          "source_hidden": false,
          "outputs_hidden": false
        },
        "nteract": {
          "transient": {
            "deleting": false
          }
        },
        "gather": {
          "logged": 1698067379038
        }
      }
    },
    {
      "cell_type": "markdown",
      "source": [
        "##### **2. Configurar el trabajo de clasificación**\n",
        "\n",
        "Se utilizó un trabajo de clasificación para entrenar un modelo que prediga \"RainTomorrow\". Se entrenan varios modelos utilizando los datos de entrenamiento. El modelo con el mejor rendimiento en los datos de validación basados en la métrica principal se selecciona como modelo final.\n",
        "\n",
        "- El compute cluster utilizado es de tipo General purpose, **Standard_D2ds_v4**, con 2 de 4 cores disponibles, 8GB RAM, 75GB storage. Las características del cluster se adaptan a la tarea de clasificación y al conjunto de datos que no requiere un amplio almacenamiento, pero nos permite utilizar dos nodos para paralelizar el proceso.\n",
        "\n",
        "- Para seguir experimentando con los modelos se configuro a 30 minutos para ejecutar todo el experimento."
      ],
      "metadata": {
        "nteract": {
          "transient": {
            "deleting": false
          }
        }
      }
    },
    {
      "cell_type": "code",
      "source": [
        "compute_name = 'general-purpose-Standard-D2ds-v4'\n",
        "exp_name     = 'rain-prediction'\n",
        "exp_timeout  = 30\n",
        "\n",
        "classification_job = automl.classification(\n",
        "    compute=compute_name,\n",
        "    experiment_name=exp_name,\n",
        "    training_data=my_training_data_input,\n",
        "    validation_data=my_validation_data_input,\n",
        "    target_column_name=\"RainTomorrow\",\n",
        "    primary_metric=\"precision_score_weighted\",\n",
        "    enable_model_explainability=True,\n",
        "    tags={\"resource\": exp_name}\n",
        ")\n",
        "\n",
        "classification_job.set_limits(timeout_minutes=exp_timeout,\n",
        "                               max_trials=5,\n",
        "                               max_nodes=2)\n",
        "classification_job.resources = ResourceConfiguration(\n",
        "    instance_type=\"Standard_D2ds_v4\")\n",
        "\n",
        "print(exp_name)"
      ],
      "outputs": [
        {
          "output_type": "stream",
          "name": "stdout",
          "text": "rain-prediction\n"
        }
      ],
      "execution_count": 34,
      "metadata": {
        "jupyter": {
          "source_hidden": false,
          "outputs_hidden": false
        },
        "nteract": {
          "transient": {
            "deleting": false
          }
        },
        "gather": {
          "logged": 1698067380861
        }
      }
    },
    {
      "cell_type": "code",
      "source": [
        "returned_job = ml_client.jobs.create_or_update(\n",
        "    classification_job\n",
        ")  # submit the job to the backend\n",
        "\n",
        "print(f\"Created job: {returned_job}\")"
      ],
      "outputs": [
        {
          "output_type": "stream",
          "name": "stderr",
          "text": "\u001b[32mUploading training-ml-table (7.42 MBs): 100%|██████████| 7419698/7419698 [00:00<00:00, 17440200.96it/s]\n\u001b[39m\n\n\u001b[32mUploading validation-ml-table (1.86 MBs): 100%|██████████| 1855601/1855601 [00:00<00:00, 13598101.00it/s]\n\u001b[39m\n\n"
        },
        {
          "output_type": "stream",
          "name": "stdout",
          "text": "Created job: compute: azureml:general-purpose-Standard-D2ds-v4\ncreation_context:\n  created_at: '2023-10-23T13:23:05.967968+00:00'\n  created_by: Carolina Aldunate\n  created_by_type: User\ndisplay_name: honest_airport_vcbqjnktj2\nexperiment_name: rain-prediction\nid: azureml:/subscriptions/3deaa453-5a6c-4bcd-85f1-1645c3ccd539/resourceGroups/ws-ml-proyectos/providers/Microsoft.MachineLearningServices/workspaces/rain_prediction_ml/jobs/honest_airport_vcbqjnktj2\nlimits:\n  enable_early_termination: true\n  max_concurrent_trials: 1\n  max_cores_per_trial: -1\n  max_nodes: 2\n  max_trials: 5\n  timeout_minutes: 30\n  trial_timeout_minutes: 30\nlog_verbosity: info\nname: honest_airport_vcbqjnktj2\noutputs: {}\nprimary_metric: precision_score_weighted\nproperties: {}\nresources:\n  instance_count: 1\n  instance_type: Standard_D2ds_v4\n  properties: {}\n  shm_size: 2g\nservices:\n  Studio:\n    endpoint: https://ml.azure.com/runs/honest_airport_vcbqjnktj2?wsid=/subscriptions/3deaa453-5a6c-4bcd-85f1-1645c3ccd539/resourcegroups/ws-ml-proyectos/workspaces/rain_prediction_ml&tid=192a4dcb-d77a-44ee-815c-5ca0ba5c5471\n  Tracking:\n    endpoint: azureml://eastus.api.azureml.ms/mlflow/v1.0/subscriptions/3deaa453-5a6c-4bcd-85f1-1645c3ccd539/resourceGroups/ws-ml-proyectos/providers/Microsoft.MachineLearningServices/workspaces/rain_prediction_ml?\nstatus: NotStarted\ntags:\n  resource: rain-prediction\ntarget_column_name: RainTomorrow\ntask: classification\ntraining:\n  enable_dnn_training: false\n  enable_model_explainability: true\n  enable_onnx_compatible_models: false\n  enable_stack_ensemble: true\n  enable_vote_ensemble: true\n  ensemble_model_download_timeout_minutes: 5\n  training_mode: auto\ntraining_data:\n  path: azureml://datastores/workspaceblobstore/paths/LocalUpload/007291a1350efdbf00abf258494373c9/training-ml-table\n  type: mltable\ntype: automl\nvalidation_data:\n  path: azureml://datastores/workspaceblobstore/paths/LocalUpload/d4357b2f3c3bdfe669c933c6fa522d8c/validation-ml-table\n  type: mltable\n\n"
        }
      ],
      "execution_count": 35,
      "metadata": {
        "jupyter": {
          "source_hidden": false,
          "outputs_hidden": false
        },
        "nteract": {
          "transient": {
            "deleting": false
          }
        },
        "gather": {
          "logged": 1698067385939
        }
      }
    },
    {
      "cell_type": "markdown",
      "source": [
        "# "
      ],
      "metadata": {
        "nteract": {
          "transient": {
            "deleting": false
          }
        }
      }
    },
    {
      "cell_type": "markdown",
      "source": [
        "**Entrenamiento...**"
      ],
      "metadata": {
        "nteract": {
          "transient": {
            "deleting": false
          }
        }
      }
    },
    {
      "cell_type": "code",
      "source": [
        "ml_client.jobs.stream(returned_job.name)"
      ],
      "outputs": [
        {
          "output_type": "stream",
          "name": "stdout",
          "text": "RunId: honest_airport_vcbqjnktj2\nWeb View: https://ml.azure.com/runs/honest_airport_vcbqjnktj2?wsid=/subscriptions/3deaa453-5a6c-4bcd-85f1-1645c3ccd539/resourcegroups/ws-ml-proyectos/workspaces/rain_prediction_ml\n\nExecution Summary\n=================\nRunId: honest_airport_vcbqjnktj2\nWeb View: https://ml.azure.com/runs/honest_airport_vcbqjnktj2?wsid=/subscriptions/3deaa453-5a6c-4bcd-85f1-1645c3ccd539/resourcegroups/ws-ml-proyectos/workspaces/rain_prediction_ml\n\n"
        }
      ],
      "execution_count": 36,
      "metadata": {
        "jupyter": {
          "source_hidden": false,
          "outputs_hidden": false
        },
        "nteract": {
          "transient": {
            "deleting": false
          }
        },
        "gather": {
          "logged": 1698068257045
        }
      }
    },
    {
      "cell_type": "markdown",
      "source": [
        "Con base a los resultados, los modelos que entreno AutoML son: StackEnsemble, VotingEnsemble, MaxAbsScaler-XGBoostClassifier, MaxAbsScaler-LightGBM y MaxAbsScaler, ExtremeRandomTrees. El mejor modelo *StackEnsemble* tiene una precision alta de 0.85540"
      ],
      "metadata": {
        "nteract": {
          "transient": {
            "deleting": false
          }
        }
      }
    },
    {
      "cell_type": "markdown",
      "source": [
        "##### **4. Deployment**.\n",
        "Inicializar cliente MLFlow"
      ],
      "metadata": {
        "nteract": {
          "transient": {
            "deleting": false
          }
        }
      }
    },
    {
      "cell_type": "code",
      "source": [
        "import mlflow\n",
        "\n",
        "# Obtain the tracking URL from MLClient\n",
        "MLFLOW_TRACKING_URI = ml_client.workspaces.get(\n",
        "    name=ml_client.workspace_name\n",
        ").mlflow_tracking_uri\n",
        "\n",
        "print(MLFLOW_TRACKING_URI)"
      ],
      "outputs": [
        {
          "output_type": "stream",
          "name": "stdout",
          "text": "azureml://eastus.api.azureml.ms/mlflow/v1.0/subscriptions/3deaa453-5a6c-4bcd-85f1-1645c3ccd539/resourceGroups/ws-ml-proyectos/providers/Microsoft.MachineLearningServices/workspaces/rain_prediction_ml\n"
        }
      ],
      "execution_count": 37,
      "metadata": {
        "jupyter": {
          "source_hidden": false,
          "outputs_hidden": false
        },
        "nteract": {
          "transient": {
            "deleting": false
          }
        },
        "gather": {
          "logged": 1698068474663
        }
      }
    },
    {
      "cell_type": "code",
      "source": [
        "mlflow.set_tracking_uri(MLFLOW_TRACKING_URI)"
      ],
      "outputs": [],
      "execution_count": 38,
      "metadata": {
        "jupyter": {
          "source_hidden": false,
          "outputs_hidden": false
        },
        "nteract": {
          "transient": {
            "deleting": false
          }
        },
        "gather": {
          "logged": 1698068477058
        }
      }
    },
    {
      "cell_type": "code",
      "source": [
        "from mlflow.tracking.client import MlflowClient\n",
        "from mlflow.artifacts import download_artifacts\n",
        "\n",
        "# Initialize MLFlow client\n",
        "mlflow_client = MlflowClient()"
      ],
      "outputs": [],
      "execution_count": 39,
      "metadata": {
        "jupyter": {
          "source_hidden": false,
          "outputs_hidden": false
        },
        "nteract": {
          "transient": {
            "deleting": false
          }
        },
        "gather": {
          "logged": 1698068484177
        }
      }
    },
    {
      "cell_type": "code",
      "source": [
        "# Get the job\n",
        "job = ml_client.jobs.get(name=returned_job.name)\n",
        "mlflow_parent_run = mlflow_client.get_run(job.name)\n",
        "print(mlflow_parent_run)"
      ],
      "outputs": [
        {
          "output_type": "stream",
          "name": "stdout",
          "text": "<Run: data=<RunData: metrics={'AUC_macro': 0.893833034462931,\n 'AUC_micro': 0.9366814331106983,\n 'AUC_weighted': 0.893833034462931,\n 'accuracy': 0.8626728475771623,\n 'average_precision_score_macro': 0.8555227825580028,\n 'average_precision_score_micro': 0.9368934858850606,\n 'average_precision_score_weighted': 0.9162125999568085,\n 'balanced_accuracy': 0.7491855803562811,\n 'f1_score_macro': 0.7763349889147229,\n 'f1_score_micro': 0.8626728475771623,\n 'f1_score_weighted': 0.8538303884857857,\n 'log_loss': 0.32208101016425095,\n 'matthews_correlation': 0.5677680900579292,\n 'norm_macro_recall': 0.49837116071256227,\n 'precision_score_macro': 0.8234141835445727,\n 'precision_score_micro': 0.8626728475771623,\n 'precision_score_weighted': 0.8553784165669999,\n 'recall_score_macro': 0.7491855803562811,\n 'recall_score_micro': 0.8626728475771623,\n 'recall_score_weighted': 0.8626728475771623,\n 'weighted_accuracy': 0.922317166980469}, params={}, tags={'automl_best_child_run_id': 'honest_airport_vcbqjnktj2_3',\n 'fit_time_000': '1.765431;11.351328;3.505352;3;18',\n 'iteration_000': '0;1;2;3;4',\n 'mlflow.rootRunId': 'honest_airport_vcbqjnktj2',\n 'mlflow.runName': 'honest_airport_vcbqjnktj2',\n 'mlflow.user': 'Carolina Aldunate',\n 'model_explain_best_run_child_id': 'honest_airport_vcbqjnktj2_3',\n 'model_explain_run': 'best_run',\n 'pipeline_id_000': '5dfac790c5c209f98a1da2dc1c7fb76f0397324f;c7af0367625be6ac5c2fecbfc72ed444cb7a2111;799d2168db11fc19b9e1c6c1df62f8981ad39fe9;__AutoML_Ensemble__;__AutoML_Stack_Ensemble__',\n 'predicted_cost_000': '0;0;0.5;0;0',\n 'resource': 'rain-prediction',\n 'run_algorithm_000': 'LightGBM;XGBoostClassifier;ExtremeRandomTrees;VotingEnsemble;StackEnsemble',\n 'run_preprocessor_000': 'MaxAbsScaler;MaxAbsScaler;MaxAbsScaler;;',\n 'score_000': '0.8518117359257436;0.854067634762994;0.8033632018684281;0.8553784165669999;0.8546716824020467',\n 'training_percent_000': '100;100;100;100;100'}>, info=<RunInfo: artifact_uri='azureml://eastus.api.azureml.ms/mlflow/v2.0/subscriptions/3deaa453-5a6c-4bcd-85f1-1645c3ccd539/resourceGroups/ws-ml-proyectos/providers/Microsoft.MachineLearningServices/workspaces/rain_prediction_ml/experiments/49c5f7ba-01a6-4fb1-87f0-cd4de13b8085/runs/honest_airport_vcbqjnktj2/artifacts', end_time=1698068210082, experiment_id='49c5f7ba-01a6-4fb1-87f0-cd4de13b8085', lifecycle_stage='active', run_id='honest_airport_vcbqjnktj2', run_name='honest_airport_vcbqjnktj2', run_uuid='honest_airport_vcbqjnktj2', start_time=1698067402296, status='FINISHED', user_id='02d95d40-d17f-4e2e-90da-0e37e53b3452'>, inputs=<RunInputs: dataset_inputs=[]>>\n"
        }
      ],
      "execution_count": 40,
      "metadata": {
        "jupyter": {
          "source_hidden": false,
          "outputs_hidden": false
        },
        "nteract": {
          "transient": {
            "deleting": false
          }
        },
        "gather": {
          "logged": 1698068488807
        }
      }
    },
    {
      "cell_type": "code",
      "source": [
        "# Seleccionar al mejor modelo\n",
        "\n",
        "best_child_run_id = mlflow_parent_run.data.tags[\"automl_best_child_run_id\"]\n",
        "best_run = mlflow_client.get_run(best_child_run_id)\n",
        "best_run"
      ],
      "outputs": [
        {
          "output_type": "execute_result",
          "execution_count": 41,
          "data": {
            "text/plain": "<Run: data=<RunData: metrics={'AUC_macro': 0.893833034462931,\n 'AUC_micro': 0.9366814331106983,\n 'AUC_weighted': 0.893833034462931,\n 'accuracy': 0.8626728475771623,\n 'average_precision_score_macro': 0.8555227825580028,\n 'average_precision_score_micro': 0.9368934858850606,\n 'average_precision_score_weighted': 0.9162125999568085,\n 'balanced_accuracy': 0.7491855803562811,\n 'f1_score_macro': 0.7763349889147229,\n 'f1_score_micro': 0.8626728475771623,\n 'f1_score_weighted': 0.8538303884857857,\n 'log_loss': 0.32208101016425095,\n 'matthews_correlation': 0.5677680900579292,\n 'norm_macro_recall': 0.49837116071256227,\n 'precision_score_macro': 0.8234141835445727,\n 'precision_score_micro': 0.8626728475771623,\n 'precision_score_weighted': 0.8553784165669999,\n 'recall_score_macro': 0.7491855803562811,\n 'recall_score_micro': 0.8626728475771623,\n 'recall_score_weighted': 0.8626728475771623,\n 'weighted_accuracy': 0.922317166980469}, params={}, tags={'mlflow.parentRunId': 'honest_airport_vcbqjnktj2',\n 'mlflow.rootRunId': 'honest_airport_vcbqjnktj2',\n 'mlflow.runName': 'teal_garden_cqv9yj0q',\n 'mlflow.source.name': 'automl_driver.py',\n 'mlflow.source.type': 'JOB',\n 'mlflow.user': 'Carolina Aldunate',\n 'model_explain_run_id': 'honest_airport_vcbqjnktj2_ModelExplain',\n 'model_explanation': 'True'}>, info=<RunInfo: artifact_uri='azureml://eastus.api.azureml.ms/mlflow/v2.0/subscriptions/3deaa453-5a6c-4bcd-85f1-1645c3ccd539/resourceGroups/ws-ml-proyectos/providers/Microsoft.MachineLearningServices/workspaces/rain_prediction_ml/experiments/49c5f7ba-01a6-4fb1-87f0-cd4de13b8085/runs/honest_airport_vcbqjnktj2_3/artifacts', end_time=1698068138095, experiment_id='49c5f7ba-01a6-4fb1-87f0-cd4de13b8085', lifecycle_stage='active', run_id='honest_airport_vcbqjnktj2_3', run_name='teal_garden_cqv9yj0q', run_uuid='honest_airport_vcbqjnktj2_3', start_time=1698068093575, status='FINISHED', user_id='02d95d40-d17f-4e2e-90da-0e37e53b3452'>, inputs=<RunInputs: dataset_inputs=[]>>"
          },
          "metadata": {}
        }
      ],
      "execution_count": 41,
      "metadata": {
        "jupyter": {
          "source_hidden": false,
          "outputs_hidden": false
        },
        "nteract": {
          "transient": {
            "deleting": false
          }
        },
        "gather": {
          "logged": 1698068492832
        }
      }
    },
    {
      "cell_type": "markdown",
      "source": [
        "**Download run's artifacts**"
      ],
      "metadata": {
        "nteract": {
          "transient": {
            "deleting": false
          }
        }
      }
    },
    {
      "cell_type": "code",
      "source": [
        "# Download run's artifacts\n",
        "import os\n",
        "\n",
        "# Create local folder\n",
        "local_dir = \"./artifact_downloads\"\n",
        "if not os.path.exists(local_dir):\n",
        "    os.mkdir(local_dir)\n",
        "# Download run's artifacts/outputs\n",
        "local_path = download_artifacts(\n",
        "    run_id=best_run.info.run_id, artifact_path=\"outputs\", dst_path=local_dir\n",
        ")\n",
        "\n",
        "# Show the contents of the MLFlow model folder\n",
        "os.listdir(\"./artifact_downloads/outputs/mlflow-model\")"
      ],
      "outputs": [
        {
          "output_type": "execute_result",
          "execution_count": 52,
          "data": {
            "text/plain": "['conda.yaml', 'MLmodel', 'model.pkl', 'python_env.yaml', 'requirements.txt']"
          },
          "metadata": {}
        }
      ],
      "execution_count": 52,
      "metadata": {
        "jupyter": {
          "source_hidden": false,
          "outputs_hidden": false
        },
        "nteract": {
          "transient": {
            "deleting": false
          }
        },
        "gather": {
          "logged": 1698068771839
        }
      }
    },
    {
      "cell_type": "markdown",
      "source": [
        "** Configurar endpoint**"
      ],
      "metadata": {
        "nteract": {
          "transient": {
            "deleting": false
          }
        }
      }
    },
    {
      "cell_type": "code",
      "source": [
        "# import required libraries\n",
        "from azure.ai.ml.entities import (\n",
        "    ManagedOnlineEndpoint,\n",
        "    ManagedOnlineDeployment,\n",
        "    Model,\n",
        "    Environment,\n",
        "    CodeConfiguration,\n",
        "    ProbeSettings,\n",
        ")\n",
        "\n",
        "# Creating a unique endpoint name with current datetime to avoid conflicts\n",
        "import datetime\n",
        "\n",
        "online_endpoint_name = \"rain-prediction\" + datetime.datetime.now().strftime(\"%m%d%H%M%f\")\n",
        "\n",
        "# create an online endpoint\n",
        "endpoint = ManagedOnlineEndpoint(\n",
        "    name=online_endpoint_name,\n",
        "    description=\"this is a sample online endpoint for deploying model\",\n",
        "    auth_mode=\"key\",\n",
        "    tags={\"foo\": \"bar\"},\n",
        ")\n",
        "print(online_endpoint_name)"
      ],
      "outputs": [
        {
          "output_type": "stream",
          "name": "stdout",
          "text": ".rain-prediction10231400701537\n"
        }
      ],
      "execution_count": 83,
      "metadata": {
        "jupyter": {
          "source_hidden": false,
          "outputs_hidden": false
        },
        "nteract": {
          "transient": {
            "deleting": false
          }
        },
        "gather": {
          "logged": 1698069621109
        }
      }
    },
    {
      "cell_type": "code",
      "source": [
        "# Create an endpoint\n",
        "ml_client.begin_create_or_update(endpoint).result()"
      ],
      "outputs": [
        {
          "output_type": "stream",
          "name": "stdout",
          "text": "........................."
        },
        {
          "output_type": "execute_result",
          "execution_count": 84,
          "data": {
            "text/plain": "ManagedOnlineEndpoint({'public_network_access': 'Enabled', 'provisioning_state': 'Succeeded', 'scoring_uri': 'https://rain-prediction10231400701537.eastus.inference.ml.azure.com/score', 'openapi_uri': 'https://rain-prediction10231400701537.eastus.inference.ml.azure.com/swagger.json', 'name': 'rain-prediction10231400701537', 'description': 'this is a sample online endpoint for deploying model', 'tags': {'foo': 'bar'}, 'properties': {'azureml.onlineendpointid': '/subscriptions/3deaa453-5a6c-4bcd-85f1-1645c3ccd539/resourcegroups/ws-ml-proyectos/providers/microsoft.machinelearningservices/workspaces/rain_prediction_ml/onlineendpoints/rain-prediction10231400701537', 'AzureAsyncOperationUri': 'https://management.azure.com/subscriptions/3deaa453-5a6c-4bcd-85f1-1645c3ccd539/providers/Microsoft.MachineLearningServices/locations/eastus/mfeOperationsStatus/oe:1b640eff-727a-497b-801c-e11b4ab09ec7:a8a980f9-a0be-44de-96d5-9e921f4fbc82?api-version=2022-02-01-preview'}, 'print_as_yaml': True, 'id': '/subscriptions/3deaa453-5a6c-4bcd-85f1-1645c3ccd539/resourceGroups/ws-ml-proyectos/providers/Microsoft.MachineLearningServices/workspaces/rain_prediction_ml/onlineEndpoints/rain-prediction10231400701537', 'Resource__source_path': None, 'base_path': '/mnt/batch/tasks/shared/LS_root/mounts/clusters/aldunatelipac1/code/Users/aldunatelipac/rain_prediction', 'creation_context': None, 'serialize': <msrest.serialization.Serializer object at 0x7f5c710e1000>, 'auth_mode': 'key', 'location': 'eastus', 'identity': <azure.ai.ml.entities._credentials.IdentityConfiguration object at 0x7f5c7104f820>, 'traffic': {}, 'mirror_traffic': {}, 'kind': 'Managed'})"
          },
          "metadata": {}
        },
        {
          "output_type": "stream",
          "name": "stdout",
          "text": "..."
        }
      ],
      "execution_count": 84,
      "metadata": {
        "jupyter": {
          "source_hidden": false,
          "outputs_hidden": false
        },
        "nteract": {
          "transient": {
            "deleting": false
          }
        },
        "gather": {
          "logged": 1698069717831
        }
      }
    },
    {
      "cell_type": "code",
      "source": [
        "# Register model\n",
        "model_name = \"rain-prediction-model\"\n",
        "model = Model(\n",
        "    path=f\"azureml://jobs/{best_run.info.run_id}/outputs/artifacts/outputs/mlflow-model/\",\n",
        "    name=model_name,\n",
        "    description=\"my sample rain prediction task\",\n",
        "    type=AssetTypes.MLFLOW_MODEL,\n",
        ")\n",
        "registered_model = ml_client.models.create_or_update(model)\n",
        "\n",
        "registered_model.id"
      ],
      "outputs": [
        {
          "output_type": "execute_result",
          "execution_count": 92,
          "data": {
            "text/plain": "'/subscriptions/3deaa453-5a6c-4bcd-85f1-1645c3ccd539/resourceGroups/ws-ml-proyectos/providers/Microsoft.MachineLearningServices/workspaces/rain_prediction_ml/models/rain-prediction-model/versions/8'"
          },
          "metadata": {}
        }
      ],
      "execution_count": 92,
      "metadata": {
        "jupyter": {
          "source_hidden": false,
          "outputs_hidden": false
        },
        "nteract": {
          "transient": {
            "deleting": false
          }
        },
        "gather": {
          "logged": 1698069898138
        }
      }
    },
    {
      "cell_type": "markdown",
      "source": [
        "El online endpointment se realizo utilizando un CPU - General Purposed, x-small."
      ],
      "metadata": {
        "nteract": {
          "transient": {
            "deleting": false
          }
        }
      }
    },
    {
      "cell_type": "code",
      "source": [
        "from azure.ai.ml.entities import OnlineRequestSettings\n",
        "\n",
        "# Setting the request timeout 90s\n",
        "req_timeout = OnlineRequestSettings(request_timeout_ms=90000)\n",
        "\n",
        "\n",
        "deployment = ManagedOnlineDeployment(\n",
        "    name='rain-prediction-deploy',\n",
        "    endpoint_name=online_endpoint_name,\n",
        "    model=registered_model,\n",
        "    instance_type=\"Standard_D2as_v4\",  \n",
        "    instance_count=1,\n",
        "    request_settings=req_timeout\n",
        ")"
      ],
      "outputs": [],
      "execution_count": 93,
      "metadata": {
        "jupyter": {
          "source_hidden": false,
          "outputs_hidden": false
        },
        "nteract": {
          "transient": {
            "deleting": false
          }
        },
        "gather": {
          "logged": 1698069952654
        }
      }
    },
    {
      "cell_type": "code",
      "source": [
        "ml_client.online_deployments.begin_create_or_update(deployment).result()"
      ],
      "outputs": [
        {
          "output_type": "stream",
          "name": "stderr",
          "text": "Check: endpoint rain-prediction10231400701537 exists\nBad pipe message: %s [b'\\xb9PV\\xe0\\x05\\xc0\\xc7<P5\\xc0\\n\\x07\\x10\\x0b\\xe2\\xca\\xf2 \\xe4H\\xf4\\xf3G\\x19\\xd4\\xf4qS\\x06@\\xd67&\\xc5\\x06']\nBad pipe message: %s [b'`HY\\\\/\\x13\\xe1`\\xb8\\x1e\\xfbQ*\\x00\\x08\\x13\\x02\\x13\\x03\\x13\\x01\\x00\\xff\\x01\\x00\\x00\\x8f\\x00\\x00\\x00\\x0e\\x00\\x0c\\x00\\x00\\t127.0.0.1\\x00\\x0b\\x00\\x04\\x03\\x00\\x01\\x02\\x00\\n\\x00\\x0c\\x00\\n\\x00\\x1d\\x00\\x17\\x00\\x1e\\x00\\x19\\x00\\x18\\x00#\\x00\\x00\\x00\\x16\\x00\\x00\\x00\\x17\\x00\\x00\\x00\\r\\x00\\x1e\\x00\\x1c\\x04\\x03\\x05', b'\\x03\\x08']\nBad pipe message: %s [b'\\x08\\x08\\t\\x08\\n\\x08']\nBad pipe message: %s [b'\\x04\\x08\\x05\\x08\\x06\\x04\\x01\\x05\\x01\\x06']\nBad pipe message: %s [b'']\nBad pipe message: %s [b'\\x03\\x02\\x03\\x04\\x00-\\x00\\x02\\x01\\x01\\x003\\x00&\\x00$\\x00\\x1d\\x00 \\xffO\\x87\\x15b//(6\\xc5m\\xdfnKk\\x81G\\xb7\\x9b\\x8d\\x99\\xd3']\nBad pipe message: %s [b\"q\\x08\\x98\\x0f \\xdb@9-\\x1b\\xdalP@y\\x89'~ \\x0e9\\x8f\\xb0m\\xb7\\xba\\x18:\\xb3\\xad\\xf9\\x9d+\\xbe\\xdd\"]\nBad pipe message: %s [b'\\xb9x\\x80S3\\xd3\\xbf\\xdd\\x8d\\xfa#\\xd2\\xdd\\x00\\x00\\x08\\x13\\x02\\x13\\x03\\x13\\x01\\x00\\xff\\x01\\x00\\x00\\x8f\\x00\\x00\\x00\\x0e\\x00\\x0c\\x00\\x00\\t127.0.0.1\\x00\\x0b\\x00\\x04\\x03\\x00\\x01\\x02\\x00\\n\\x00\\x0c\\x00\\n\\x00\\x1d\\x00\\x17\\x00\\x1e\\x00\\x19\\x00\\x18\\x00#\\x00\\x00\\x00\\x16\\x00\\x00\\x00\\x17\\x00\\x00\\x00\\r\\x00\\x1e\\x00\\x1c\\x04\\x03\\x05\\x03\\x06\\x03\\x08\\x07\\x08\\x08\\x08\\t\\x08\\n\\x08\\x0b\\x08\\x04\\x08\\x05\\x08\\x06\\x04\\x01\\x05\\x01\\x06\\x01\\x00+\\x00\\x03\\x02\\x03\\x04\\x00-\\x00\\x02\\x01\\x01\\x003\\x00&\\x00$\\x00\\x1d\\x00 \\x98\\x96\\xe4EB\\x10Zu\\x8d*\\x12\\xb8\\xbc\\x84!\\xfd\\xbd\\xdd\\xf4\\xe0']\nBad pipe message: %s [b'L\\x05\\xca\\x7f7[PuT] ?\\xe5\\xe1\\xfd}\\x1b\\x1b\\x00\\x00\\xa6\\xc0,\\xc00\\x00\\xa3\\x00\\x9f\\xcc\\xa9\\xcc\\xa8\\xcc\\xaa\\xc0\\xaf\\xc0\\xad\\xc0\\xa3\\xc0\\x9f\\xc0]\\xc0a\\xc0W\\xc0S\\xc0+\\xc0/\\x00\\xa2\\x00\\x9e\\xc0\\xae\\xc0\\xac\\xc0\\xa2\\xc0\\x9e\\xc0\\\\\\xc0`\\xc0V\\xc0R\\xc0$\\xc0(\\x00k\\x00j\\xc0s\\xc0w\\x00\\xc4\\x00\\xc3', b\"\\xc0'\\x00g\\x00@\\xc0r\\xc0v\\x00\\xbe\\x00\\xbd\\xc0\\n\\xc0\\x14\\x009\\x008\\x00\\x88\\x00\\x87\\xc0\\t\\xc0\\x13\\x003\\x002\\x00\\x9a\\x00\\x99\\x00E\\x00D\\xc0\\x07\\xc0\\x11\\xc0\\x08\\xc0\\x12\\x00\\x16\\x00\\x13\\x00\\x9d\\xc0\\xa1\\xc0\\x9d\\xc0Q\\x00\\x9c\\xc0\\xa0\\xc0\\x9c\\xc0P\\x00=\\x00\\xc0\\x00<\\x00\\xba\\x005\\x00\\x84\\x00/\\x00\\x96\\x00A\\x00\\x05\\x00\\n\\x00\\xff\\x01\\x00\\x00j\\x00\\x00\\x00\\x0e\\x00\\x0c\\x00\\x00\\t127.0.0.1\\x00\\x0b\\x00\\x04\\x03\\x00\\x01\\x02\\x00\\n\\x00\\x0c\\x00\\n\\x00\\x1d\\x00\\x17\\x00\\x1e\\x00\\x19\\x00\\x18\\x00#\\x00\\x00\\x00\\x16\\x00\\x00\\x00\\x17\\x00\\x00\\x00\\r\\x000\\x00.\\x04\\x03\\x05\\x03\\x06\\x03\\x08\\x07\\x08\\x08\\x08\\t\\x08\\n\\x08\\x0b\\x08\\x04\\x08\\x05\\x08\\x06\\x04\\x01\\x05\\x01\\x06\\x01\\x03\\x03\\x02\\x03\\x03\", b'']\nBad pipe message: %s [b'', b'\\x02']\nBad pipe message: %s [b'\\x05\\x02\\x06']\nBad pipe message: %s [b'\\x05\\xbf\\xc8%4An\\xc7\\t+W\\x81\\xe8\\x1c9\\xe7~\\x83\\x00\\x00\\xa2\\xc0\\x14\\xc0\\n\\x009\\x008\\x007\\x006\\x00\\x88\\x00\\x87\\x00\\x86\\x00\\x85\\xc0\\x19\\x00:\\x00\\x89\\xc0\\x0f\\xc0\\x05\\x005\\x00\\x84\\xc0\\x13\\xc0\\t\\x003\\x002\\x001\\x000\\x00\\x9a\\x00\\x99\\x00\\x98\\x00\\x97\\x00E\\x00D\\x00C\\x00B\\xc0\\x18\\x004\\x00\\x9b\\x00F\\xc0\\x0e\\xc0\\x04\\x00/\\x00\\x96\\x00A\\x00\\x07\\xc0\\x11\\xc0\\x07\\xc0\\x16\\x00\\x18\\xc0', b'\\x02\\x00\\x05\\x00\\x04\\xc0\\x12\\xc0\\x08\\x00\\x16']\nBad pipe message: %s [b'\\xdc\\xf7\\x17\\x02R\\xfb\\xdc\\xe2\\xae\\x10\\xbeR\\xc8s\\x0e\\x8d\\xa1\\xd0\\x00\\x00>\\xc0\\x14\\xc0\\n\\x009\\x008\\x007\\x006\\xc0\\x0f\\xc0\\x05\\x005\\xc0\\x13\\xc0\\t\\x003\\x002\\x001\\x000\\xc0\\x0e\\xc0\\x04\\x00/\\x00\\x9a\\x00\\x99\\x00\\x98\\x00\\x97\\x00\\x96\\x00\\x07\\xc0\\x11\\xc0\\x07\\xc0\\x0c\\xc0\\x02\\x00\\x05\\x00\\x04\\x00\\xff\\x02\\x01\\x00\\x00C\\x00\\x00\\x00\\x0e\\x00\\x0c\\x00\\x00\\t127.0.0.1\\x00\\x0b\\x00\\x04\\x03\\x00\\x01\\x02\\x00\\n\\x00\\x1c\\x00\\x1a\\x00\\x17\\x00\\x19\\x00\\x1c\\x00\\x1b\\x00\\x18\\x00\\x1a\\x00\\x16']\nBad pipe message: %s [b'\\xb7\\x05;\\xbcv\\xfaj\\xac\\xfa$v\\x11\\xe1\\x03\\xbb\\x0b\\xeb:\\x00\\x00\\xa2\\xc0\\x14\\xc0\\n\\x009\\x008\\x007\\x006\\x00\\x88\\x00\\x87\\x00\\x86\\x00\\x85\\xc0\\x19\\x00:\\x00\\x89\\xc0\\x0f\\xc0\\x05\\x005\\x00\\x84\\xc0\\x13\\xc0\\t\\x003\\x002\\x001\\x000\\x00\\x9a\\x00\\x99\\x00\\x98\\x00\\x97\\x00E\\x00D\\x00C\\x00B\\xc0\\x18\\x004\\x00\\x9b\\x00F\\xc0\\x0e\\xc0\\x04\\x00/\\x00\\x96\\x00A\\x00\\x07\\xc0\\x11\\xc0\\x07\\xc0\\x16\\x00\\x18\\xc0\\x0c\\xc0\\x02\\x00\\x05\\x00\\x04\\xc0\\x12\\xc0\\x08\\x00\\x16\\x00\\x13\\x00\\x10\\x00\\r\\xc0\\x17\\x00\\x1b\\xc0\\r\\xc0\\x03\\x00\\n\\x00\\x15\\x00\\x12\\x00\\x0f\\x00\\x0c\\x00\\x1a\\x00\\t\\x00\\x14\\x00\\x11\\x00\\x19\\x00\\x08\\x00\\x06\\x00\\x17\\x00\\x03\\xc0\\x10\\xc0\\x06\\xc0\\x15\\xc0\\x0b\\xc0\\x01\\x00\\x02\\x00\\x01\\x00\\xff\\x02\\x01\\x00\\x00C\\x00\\x00\\x00\\x0e\\x00\\x0c\\x00\\x00\\t127.0.0.1\\x00\\x0b\\x00\\x04\\x03\\x00\\x01']\nBad pipe message: %s [b'\\n']\nBad pipe message: %s [b'\\xd55\\xe4\\xa4\\x0bM\\xb7\\xeb\\xf2\\xfb\\xe3n6u@\\x88\\xa6\\xd8\\x00\\x00>\\xc0\\x14\\xc0\\n\\x009\\x008\\x007\\x006\\xc0\\x0f\\xc0\\x05\\x005\\xc0\\x13\\xc0\\t\\x003\\x002\\x001\\x000\\xc0\\x0e\\xc0\\x04\\x00/\\x00\\x9a\\x00\\x99\\x00\\x98\\x00\\x97\\x00\\x96\\x00\\x07\\xc0\\x11\\xc0\\x07\\xc0\\x0c\\xc0\\x02\\x00\\x05\\x00\\x04']\nBad pipe message: %s [b'O@\\x85\\x86\\x0bZ\\x8dT>\\xa2\\xd1\\xc1b\\x84\\x80xkl\\x00\\x00\\x86\\xc00\\xc0,\\xc0(\\xc0$\\xc0\\x14\\xc0\\n\\x00\\xa5\\x00\\xa3\\x00\\xa1\\x00\\x9f\\x00k\\x00j\\x00i\\x00h\\x009\\x008\\x007\\x006\\xc02\\xc0.\\xc0*\\xc0&\\xc0\\x0f\\xc0\\x05\\x00', b\"=\\x005\\xc0/\\xc0+\\xc0'\\xc0#\\xc0\\x13\\xc0\\t\\x00\\xa4\\x00\\xa2\\x00\\xa0\\x00\\x9e\\x00g\\x00@\\x00?\\x00>\\x003\\x002\\x001\\x000\\xc01\\xc0-\\xc0)\\xc0%\\xc0\\x0e\\xc0\\x04\\x00\\x9c\\x00<\\x00/\\x00\\x9a\\x00\\x99\\x00\\x98\\x00\\x97\\x00\\x96\\x00\\x07\\xc0\\x11\\xc0\\x07\\xc0\\x0c\\xc0\\x02\\x00\\x05\\x00\\x04\\x00\\xff\\x02\\x01\\x00\\x00g\\x00\\x00\\x00\\x0e\\x00\\x0c\\x00\\x00\\t127.0.0.1\\x00\\x0b\\x00\\x04\\x03\\x00\\x01\\x02\\x00\\n\\x00\\x1c\\x00\\x1a\\x00\\x17\\x00\\x19\\x00\\x1c\\x00\\x1b\\x00\\x18\\x00\\x1a\\x00\\x16\\x00\\x0e\\x00\\r\\x00\\x0b\\x00\\x0c\\x00\\t\\x00\\n\\x00#\\x00\\x00\\x00\\r\\x00 \\x00\\x1e\"]\nBad pipe message: %s [b'\\x06\\x02\\x06\\x03\\x05', b'', b'\\x03', b'\\x04\\x02\\x04', b'\\x01\\x03', b'\\x03', b'\\x02', b'\\x03']\nBad pipe message: %s [b'\\xa8$\\xe9\\x17\\xf4?\\x9d\\x96\\xd6=S\\x02\\xf1\\xebw_\\xc1*\\x00\\x00\\xf4\\xc00\\xc0,\\xc0(\\xc0$\\xc0\\x14\\xc0', b'\\xa5\\x00\\xa3\\x00\\xa1\\x00\\x9f\\x00k']\n"
        },
        {
          "output_type": "stream",
          "name": "stdout",
          "text": ".............................................................................................."
        },
        {
          "output_type": "execute_result",
          "execution_count": 94,
          "data": {
            "text/plain": "ManagedOnlineDeployment({'private_network_connection': None, 'provisioning_state': 'Succeeded', 'endpoint_name': 'rain-prediction10231400701537', 'type': 'Managed', 'name': 'rain-prediction-deploy', 'description': None, 'tags': {}, 'properties': {'AzureAsyncOperationUri': 'https://management.azure.com/subscriptions/3deaa453-5a6c-4bcd-85f1-1645c3ccd539/providers/Microsoft.MachineLearningServices/locations/eastus/mfeOperationsStatus/od:1b640eff-727a-497b-801c-e11b4ab09ec7:0a4f8c70-cce6-44b7-9e12-6c81f0460a2b?api-version=2023-04-01-preview'}, 'print_as_yaml': True, 'id': '/subscriptions/3deaa453-5a6c-4bcd-85f1-1645c3ccd539/resourceGroups/ws-ml-proyectos/providers/Microsoft.MachineLearningServices/workspaces/rain_prediction_ml/onlineEndpoints/rain-prediction10231400701537/deployments/rain-prediction-deploy', 'Resource__source_path': None, 'base_path': '/mnt/batch/tasks/shared/LS_root/mounts/clusters/aldunatelipac1/code/Users/aldunatelipac/rain_prediction', 'creation_context': None, 'serialize': <msrest.serialization.Serializer object at 0x7f5c70f575e0>, 'model': '/subscriptions/3deaa453-5a6c-4bcd-85f1-1645c3ccd539/resourceGroups/ws-ml-proyectos/providers/Microsoft.MachineLearningServices/workspaces/rain_prediction_ml/models/rain-prediction-model/versions/8', 'code_configuration': None, 'environment': None, 'environment_variables': {}, 'app_insights_enabled': False, 'scale_settings': <azure.ai.ml.entities._deployment.scale_settings.DefaultScaleSettings object at 0x7f5c70f54220>, 'request_settings': <azure.ai.ml.entities._deployment.deployment_settings.OnlineRequestSettings object at 0x7f5c70f563b0>, 'liveness_probe': <azure.ai.ml.entities._deployment.deployment_settings.ProbeSettings object at 0x7f5c70f54d90>, 'readiness_probe': <azure.ai.ml.entities._deployment.deployment_settings.ProbeSettings object at 0x7f5c70f552d0>, 'instance_count': 1, 'arm_type': 'online_deployment', 'model_mount_path': None, 'instance_type': 'Standard_D2as_v4', 'data_collector': None, 'egress_public_network_access': 'Enabled'})"
          },
          "metadata": {}
        }
      ],
      "execution_count": 94,
      "metadata": {
        "jupyter": {
          "source_hidden": false,
          "outputs_hidden": true
        },
        "nteract": {
          "transient": {
            "deleting": false
          }
        },
        "gather": {
          "logged": 1698070447031
        }
      }
    },
    {
      "cell_type": "markdown",
      "source": [
        "##### **6. Realizar inferencias**\n",
        "\n",
        "Se verificó el modelo con los dos primeros sample de los datos de validación. Como se puede observar tanto para el primer caso, no RainTomorrow como para el segundo, si RainTomorrow, el modelo logró predecir correctamente el resultado"
      ],
      "metadata": {
        "nteract": {
          "transient": {
            "deleting": false
          }
        }
      }
    },
    {
      "cell_type": "code",
      "source": [
        "import json\n",
        "\n",
        "print(test_data.iloc[0,:])\n",
        "\n",
        "request_json = {\n",
        "    \"input_data\":{\n",
        "        \"columns\":[\"Location\",\"MinTemp\",\"MaxTemp\",\"Rainfall\",'WindGustDir','WindGustSpeed',\n",
        "                    \"WindDir9am\",\"WindDir3pm\",\"WindSpeed9am\",\"WindSpeed3pm\",\"Humidity9am\",\n",
        "                    \"Humidity3pm\",\"Pressure9am\",\"Pressure3pm\",\"RainToday\"],\n",
        "        \"data\":   [{\n",
        "                    \"Location\":21.0,\n",
        "                    \"MinTemp\":6.1,\n",
        "                    \"MaxTemp\":20.7,\n",
        "                    \"Rainfall\":0.0,\n",
        "                    \"WindGustDir\":0.0,\n",
        "                    \"WindGustSpeed\":30.0,\n",
        "                    \"WindDir9am\":0.0,\n",
        "                    \"WindDir3pm\":8.0,\n",
        "                    \"WindSpeed9am\":17.0,\n",
        "                    \"WindSpeed3pm\":9.0,\n",
        "                    \"Humidity9am\":68.0,\n",
        "                    \"Humidity3pm\":39.0,\n",
        "                    \"Pressure9am\":1026.0,\n",
        "                    \"Pressure3pm\":1021.9,\n",
        "                    \"RainToday\":0.0\n",
        "                  }],\n",
        "    }\n",
        "}\n",
        "\n",
        "\n",
        "request_file_name = \"sample_request_data.json\"\n",
        "with open(request_file_name, \"w\") as request_file:\n",
        "    json.dump(request_json, request_file)\n",
        "\n",
        "resp = ml_client.online_endpoints.invoke(\n",
        "    endpoint_name=online_endpoint_name,\n",
        "    deployment_name=deployment.name,\n",
        "    request_file=request_file_name,\n",
        ")\n",
        "print('Predicción con el mejor modelo')\n",
        "resp"
      ],
      "outputs": [
        {
          "output_type": "stream",
          "name": "stdout",
          "text": "Location           21.0\nMinTemp             6.1\nMaxTemp            20.7\nRainfall            0.0\nWindGustDir         0.0\nWindGustSpeed      30.0\nWindDir9am          0.0\nWindDir3pm          8.0\nWindSpeed9am       17.0\nWindSpeed3pm        9.0\nHumidity9am        68.0\nHumidity3pm        39.0\nPressure9am      1026.0\nPressure3pm      1021.9\nRainToday           0.0\nRainTomorrow        0.0\nName: 12670, dtype: float64\nPredicción con el mejor modelo\n"
        },
        {
          "output_type": "execute_result",
          "execution_count": 105,
          "data": {
            "text/plain": "'[0]'"
          },
          "metadata": {}
        }
      ],
      "execution_count": 105,
      "metadata": {
        "jupyter": {
          "source_hidden": false,
          "outputs_hidden": false
        },
        "nteract": {
          "transient": {
            "deleting": false
          }
        },
        "gather": {
          "logged": 1698070897622
        }
      }
    },
    {
      "cell_type": "code",
      "source": [
        "import json\n",
        "print(test_data.iloc[2,:])\n",
        "request_json = {\n",
        "    \"input_data\":{\n",
        "        \"columns\":[\"Location\",\"MinTemp\",\"MaxTemp\",\"Rainfall\",'WindGustDir','WindGustSpeed',\n",
        "                    \"WindDir9am\",\"WindDir3pm\",\"WindSpeed9am\",\"WindSpeed3pm\",\"Humidity9am\",\n",
        "                    \"Humidity3pm\",\"Pressure9am\",\"Pressure3pm\",\"RainToday\"],\n",
        "        \"data\":   [{\n",
        "                    \"Location\":15.0,\n",
        "                    \"MinTemp\":15.1,\n",
        "                    \"MaxTemp\":22.7,\n",
        "                    \"Rainfall\":5.8,\n",
        "                    \"WindGustDir\":6.0,\n",
        "                    \"WindGustSpeed\":65.0,\n",
        "                    \"WindDir9am\":6.74,\n",
        "                    \"WindDir3pm\":5.0,\n",
        "                    \"WindSpeed9am\":2.0,\n",
        "                    \"WindSpeed3pm\":9.0,\n",
        "                    \"Humidity9am\":7.0,\n",
        "                    \"Humidity3pm\":82.0,\n",
        "                    \"Pressure9am\":1006.0,\n",
        "                    \"Pressure3pm\":1002.9,\n",
        "                    \"RainToday\":1.0\n",
        "                  }],\n",
        "    }\n",
        "}\n",
        "\n",
        "\n",
        "request_file_name = \"sample_request_data.json\"\n",
        "with open(request_file_name, \"w\") as request_file:\n",
        "    json.dump(request_json, request_file)\n",
        "\n",
        "resp = ml_client.online_endpoints.invoke(\n",
        "    endpoint_name=online_endpoint_name,\n",
        "    deployment_name=deployment.name,\n",
        "    request_file=request_file_name,\n",
        ")\n",
        "resp"
      ],
      "outputs": [
        {
          "output_type": "stream",
          "name": "stdout",
          "text": "Location           15.000000\nMinTemp            15.100000\nMaxTemp            22.700000\nRainfall            5.800000\nWindGustDir         6.000000\nWindGustSpeed      65.000000\nWindDir9am          6.742962\nWindDir3pm          5.000000\nWindSpeed9am        2.000000\nWindSpeed3pm        7.000000\nHumidity9am        94.000000\nHumidity3pm        82.000000\nPressure9am      1006.200000\nPressure3pm      1002.100000\nRainToday           1.000000\nRainTomorrow        1.000000\nName: 111579, dtype: float64\n"
        },
        {
          "output_type": "execute_result",
          "execution_count": 108,
          "data": {
            "text/plain": "'[1]'"
          },
          "metadata": {}
        }
      ],
      "execution_count": 108,
      "metadata": {
        "jupyter": {
          "source_hidden": false,
          "outputs_hidden": false
        },
        "nteract": {
          "transient": {
            "deleting": false
          }
        },
        "gather": {
          "logged": 1698070956419
        }
      }
    },
    {
      "cell_type": "code",
      "source": [],
      "outputs": [],
      "execution_count": null,
      "metadata": {
        "jupyter": {
          "source_hidden": false,
          "outputs_hidden": false
        },
        "nteract": {
          "transient": {
            "deleting": false
          }
        }
      }
    }
  ],
  "metadata": {
    "kernelspec": {
      "name": "python310-sdkv2",
      "language": "python",
      "display_name": "Python 3.10 - SDK v2"
    },
    "language_info": {
      "name": "python",
      "version": "3.10.11",
      "mimetype": "text/x-python",
      "codemirror_mode": {
        "name": "ipython",
        "version": 3
      },
      "pygments_lexer": "ipython3",
      "nbconvert_exporter": "python",
      "file_extension": ".py"
    },
    "microsoft": {
      "ms_spell_check": {
        "ms_spell_check_language": "en"
      },
      "host": {
        "AzureML": {
          "notebookHasBeenCompleted": true
        }
      }
    },
    "kernel_info": {
      "name": "python310-sdkv2"
    },
    "nteract": {
      "version": "nteract-front-end@1.0.0"
    }
  },
  "nbformat": 4,
  "nbformat_minor": 2
}
